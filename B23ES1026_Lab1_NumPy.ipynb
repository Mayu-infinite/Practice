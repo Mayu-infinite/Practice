{
  "nbformat": 4,
  "nbformat_minor": 0,
  "metadata": {
    "colab": {
      "provenance": [],
      "include_colab_link": true
    },
    "kernelspec": {
      "name": "python3",
      "display_name": "Python 3"
    },
    "language_info": {
      "name": "python"
    }
  },
  "cells": [
    {
      "cell_type": "markdown",
      "metadata": {
        "id": "view-in-github",
        "colab_type": "text"
      },
      "source": [
        "<a href=\"https://colab.research.google.com/github/Mayu-infinite/Practice/blob/main/B23ES1026_Lab1_NumPy.ipynb\" target=\"_parent\"><img src=\"https://colab.research.google.com/assets/colab-badge.svg\" alt=\"Open In Colab\"/></a>"
      ]
    },
    {
      "cell_type": "code",
      "execution_count": null,
      "metadata": {
        "colab": {
          "base_uri": "https://localhost:8080/"
        },
        "id": "QP5MPIWPNRq-",
        "outputId": "ed28e64c-28fa-4567-faf5-d0e5ec5b3e1d"
      },
      "outputs": [
        {
          "output_type": "stream",
          "name": "stdout",
          "text": [
            "A:\n",
            " [[68269 43568 42614]\n",
            " [45892 21244 95940]\n",
            " [97640 41994 86294]]\n",
            "B:\n",
            " [[155026 180471 180966]\n",
            " [148600 139512 152620]\n",
            " [180186 117089 132230]]\n",
            "Product:\n",
            " [[24736120998 23388464161 24638565234]\n",
            " [27558356432 22479486720 24233297152]\n",
            " [36926017724 33583933534 35489300140]]\n",
            "Time taken (NumPy): 0.000110626220703125\n"
          ]
        }
      ],
      "source": [
        "import numpy as np\n",
        "import time\n",
        "\n",
        "np.random.seed(0)\n",
        "A = np.random.randint(1, 100000, (3, 3))\n",
        "B = np.random.randint(100000, 200000, (3, 3))\n",
        "\n",
        "start_time = time.time()\n",
        "result_np = np.dot(A,B)\n",
        "end_time = time.time()\n",
        "numpy_time = end_time - start_time\n",
        "\n",
        "print(\"A:\\n\", A)\n",
        "print(\"B:\\n\", B)\n",
        "print(\"Product:\\n\", result_np)\n",
        "print(\"Time taken (NumPy):\", numpy_time)\n"
      ]
    },
    {
      "cell_type": "code",
      "source": [
        "def matrix_multiplication_loop(A, B):\n",
        "    rows_A, cols_A = A.shape\n",
        "    rows_B, cols_B = B.shape\n",
        "    result = np.zeros((rows_A, cols_B))\n",
        "\n",
        "    for i in range(rows_A):\n",
        "        for j in range(cols_B):\n",
        "            for k in range(cols_A):\n",
        "                result[i, j] += A[i, k] * B[k, j] #loop\n",
        "    return result\n",
        "\n",
        "start_time = time.time()\n",
        "result_loop = matrix_multiplication_loop(A, B)\n",
        "end_time = time.time()\n",
        "loop_time = end_time - start_time\n",
        "\n",
        "print(\"Product:\\n\", result_loop)\n",
        "print(\"Time taken (Loop):\", loop_time)\n"
      ],
      "metadata": {
        "colab": {
          "base_uri": "https://localhost:8080/"
        },
        "id": "ULHLg0IRNoNe",
        "outputId": "a2faea3d-0ace-4f63-8c17-9ef97fde03c1"
      },
      "execution_count": null,
      "outputs": [
        {
          "output_type": "stream",
          "name": "stdout",
          "text": [
            "Product:\n",
            " [[2.47361210e+10 2.33884642e+10 2.46385652e+10]\n",
            " [2.75583564e+10 2.24794867e+10 2.42332972e+10]\n",
            " [3.69260177e+10 3.35839335e+10 3.54893001e+10]]\n",
            "Time taken (Loop): 0.0001690387725830078\n"
          ]
        }
      ]
    },
    {
      "cell_type": "markdown",
      "source": [
        "Here we saw that the loop takes much more time as compared to the NumPy array multiplication.\n"
      ],
      "metadata": {
        "id": "Ra6mfsJkks3N"
      }
    },
    {
      "cell_type": "code",
      "source": [
        "def normalize_matrix(matrix):\n",
        "    min_val = matrix.min()\n",
        "    max_val = matrix.max()\n",
        "    normalized = (matrix - min_val) / (max_val - min_val)\n",
        "    return normalized\n",
        "\n",
        "# Normalize\n",
        "normalized_np = normalize_matrix(result_np)\n",
        "\n",
        "print(normalized_np)\n"
      ],
      "metadata": {
        "id": "mN3A1ZA2NrD7",
        "colab": {
          "base_uri": "https://localhost:8080/"
        },
        "outputId": "9f6d503a-cfa4-4328-b097-f373143cc570"
      },
      "execution_count": null,
      "outputs": [
        {
          "output_type": "stream",
          "name": "stdout",
          "text": [
            "[[0.15620596 0.06292012 0.14945308]\n",
            " [0.35156327 0.         0.12140011]\n",
            " [1.         0.76865836 0.9005493 ]]\n"
          ]
        }
      ]
    },
    {
      "cell_type": "code",
      "source": [
        "import numpy as np\n",
        "\n",
        "def generate_matrix_and_sum_diagonals(n):\n",
        "\n",
        "    matrix = np.random.randint(1, 11, (n, n))\n",
        "\n",
        "    def sum_diagonals(matrix):\n",
        "        diagonals_sum = []\n",
        "        for d in range(-n + 1, n):\n",
        "            diagonal_sum = np.sum(np.diagonal(matrix, offset=d))\n",
        "            diagonals_sum.append(diagonal_sum)\n",
        "        return diagonals_sum\n",
        "\n",
        "    diagonal_sums = sum_diagonals(matrix)\n",
        "    return matrix, diagonal_sums\n",
        "n = 5\n",
        "matrix, diagonal_sums = generate_matrix_and_sum_diagonals(n)\n",
        "print(matrix)\n",
        "print(diagonal_sums)\n",
        "\n"
      ],
      "metadata": {
        "colab": {
          "base_uri": "https://localhost:8080/"
        },
        "id": "e_qscmKlRIqv",
        "outputId": "e383bd6e-143c-413e-e07f-f7cf967f2504"
      },
      "execution_count": null,
      "outputs": [
        {
          "output_type": "stream",
          "name": "stdout",
          "text": [
            "[[8 8 9 2 6]\n",
            " [9 5 4 1 4]\n",
            " [6 1 3 4 9]\n",
            " [2 4 4 4 8]\n",
            " [1 2 1 5 8]]\n",
            "[1, 4, 11, 19, 28, 24, 19, 6, 6]\n"
          ]
        }
      ]
    }
  ]
}