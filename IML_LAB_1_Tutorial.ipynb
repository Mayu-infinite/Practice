{
  "nbformat": 4,
  "nbformat_minor": 0,
  "metadata": {
    "colab": {
      "provenance": [],
      "include_colab_link": true
    },
    "kernelspec": {
      "name": "python3",
      "display_name": "Python 3"
    },
    "language_info": {
      "name": "python"
    }
  },
  "cells": [
    {
      "cell_type": "markdown",
      "metadata": {
        "id": "view-in-github",
        "colab_type": "text"
      },
      "source": [
        "<a href=\"https://colab.research.google.com/github/Mayu-infinite/Practice/blob/main/IML_LAB_1_Tutorial.ipynb\" target=\"_parent\"><img src=\"https://colab.research.google.com/assets/colab-badge.svg\" alt=\"Open In Colab\"/></a>"
      ]
    },
    {
      "cell_type": "markdown",
      "source": [
        "# ***Introduction to Machine Learning Lab 1***"
      ],
      "metadata": {
        "id": "obek5eGQfRCA"
      }
    },
    {
      "cell_type": "markdown",
      "source": [
        "NumPy user guide:-https://numpy.org/devdocs/user/\n",
        "\n",
        "Pandas user guide:-https://pandas.pydata.org/docs/reference/api/pandas.DataFrame.html"
      ],
      "metadata": {
        "id": "xfQc-enhfwxW"
      }
    },
    {
      "cell_type": "markdown",
      "source": [
        "# ***Numpy***\n"
      ],
      "metadata": {
        "id": "VzJ8INR6lpwj"
      }
    },
    {
      "cell_type": "markdown",
      "source": [
        "### ***List vs Numpy Array***"
      ],
      "metadata": {
        "id": "4SyYwIVpgW-f"
      }
    },
    {
      "cell_type": "code",
      "source": [
        "#Two python List\n",
        "import numpy as np\n",
        "import time\n",
        "\n",
        "X_list = list(range(100000))\n",
        "Y_list = list(range(100000))\n",
        "\n",
        "# Numpy array using above two list\n",
        "X = np.array(X_list)\n",
        "Y = np.array(Y_list)\n",
        "\n",
        "# calculate sum of python lists\n",
        "def python_list():\n",
        "    sum = []\n",
        "    for i in range(len(X_list)):\n",
        "        sum.append(X_list[i] + Y_list[i])\n",
        "\n",
        "# Define a function to calculate sum of numpy arrays\n",
        "def numpy_arr_sum():\n",
        "    Z = X + Y\n"
      ],
      "metadata": {
        "id": "XNxbbZRRgiLF"
      },
      "execution_count": null,
      "outputs": []
    },
    {
      "cell_type": "code",
      "source": [
        "# Show time taken by python list in milliseconds\n",
        "start = time.time()\n",
        "sum_list = python_list()\n",
        "end = time.time()\n",
        "\n",
        "print(\"Time taken by Python List in milliseconds: \", (end-start)*1000)\n",
        "\n",
        "\n",
        "# Show time taken by numpy array in milliseconds\n",
        "start = time.time()\n",
        "numpy_arr_sum()\n",
        "end = time.time()\n",
        "\n",
        "print(\"Time taken by Numpy Array in milliseconds: \", (end-start)*1000)"
      ],
      "metadata": {
        "colab": {
          "base_uri": "https://localhost:8080/"
        },
        "id": "3Be8LKfAjudn",
        "outputId": "9d169320-08d3-4bbb-e587-153dca0742c7"
      },
      "execution_count": null,
      "outputs": [
        {
          "output_type": "stream",
          "name": "stdout",
          "text": [
            "Time taken by Python List in milliseconds:  115.19694328308105\n",
            "Time taken by Numpy Array in milliseconds:  2.675294876098633\n"
          ]
        }
      ]
    },
    {
      "cell_type": "markdown",
      "source": [
        "### ***Arrays and Matrices***"
      ],
      "metadata": {
        "id": "I8T3FXrPf9O_"
      }
    },
    {
      "cell_type": "code",
      "source": [
        "# define a numpy array\n",
        "a = np.array([1,2,3])\n",
        "\n",
        "print(\"a: \",a)\n",
        "print(\"Type: \", type(a))"
      ],
      "metadata": {
        "colab": {
          "base_uri": "https://localhost:8080/"
        },
        "id": "p9pIeh3yl_tk",
        "outputId": "1b55aa44-a35d-4e44-d3f6-cb46d86e41aa"
      },
      "execution_count": null,
      "outputs": [
        {
          "output_type": "stream",
          "name": "stdout",
          "text": [
            "a:  [1 2 3]\n",
            "Type:  <class 'numpy.ndarray'>\n"
          ]
        }
      ]
    },
    {
      "cell_type": "code",
      "source": [
        "#2D array - Matrix\n",
        "b=np.array([[1,2,3],\n",
        "            [3,2,1]])\n",
        "\n",
        "print(b)\n",
        "# check the shape of the array\n",
        "print(\"\\nShape of the array: \", b.shape)"
      ],
      "metadata": {
        "colab": {
          "base_uri": "https://localhost:8080/"
        },
        "id": "JO4yUWbqmjjU",
        "outputId": "3119b523-a023-41ae-b802-b2f36db1a75a"
      },
      "execution_count": null,
      "outputs": [
        {
          "output_type": "stream",
          "name": "stdout",
          "text": [
            "[[1 2 3]\n",
            " [3 2 1]]\n",
            "\n",
            "Shape of the array:  (2, 3)\n"
          ]
        }
      ]
    },
    {
      "cell_type": "code",
      "source": [
        "# 3D array (row, column, channels)\n",
        "\n",
        "c = np.array([[[1,2],[3,4]],\n",
        "             [[5,6],[7,8]]])\n",
        "\n",
        "print(c)\n",
        "print(\"\\nShape of the array: \", c.shape)"
      ],
      "metadata": {
        "colab": {
          "base_uri": "https://localhost:8080/"
        },
        "id": "-TdBcu2gmp-2",
        "outputId": "2c68faff-32f7-41b4-c789-3577d9724eea"
      },
      "execution_count": null,
      "outputs": [
        {
          "output_type": "stream",
          "name": "stdout",
          "text": [
            "[[[1 2]\n",
            "  [3 4]]\n",
            "\n",
            " [[5 6]\n",
            "  [7 8]]]\n",
            "\n",
            "Shape of the array:  (2, 2, 2)\n"
          ]
        }
      ]
    },
    {
      "cell_type": "markdown",
      "source": [
        "### ***Data Type***"
      ],
      "metadata": {
        "id": "YHuaaZLSgDl4"
      }
    },
    {
      "cell_type": "code",
      "source": [
        "#data type\n",
        "d = np.array([10, 20, 30])\n",
        "print(\"Array elements: \", d)\n",
        "print(\"Data type of array elements: \", d.dtype)"
      ],
      "metadata": {
        "colab": {
          "base_uri": "https://localhost:8080/"
        },
        "id": "ZU2oKTYinLKw",
        "outputId": "81f5aaf5-b440-422c-fe0d-e43aea620811"
      },
      "execution_count": null,
      "outputs": [
        {
          "output_type": "stream",
          "name": "stdout",
          "text": [
            "Array elements:  [10 20 30]\n",
            "Data type of array elements:  int64\n"
          ]
        }
      ]
    },
    {
      "cell_type": "code",
      "source": [
        "#change the data type\n",
        "e = np.array([10, 20, 30], dtype='float')\n",
        "print(\"Array elements: \", e)\n",
        "print(\"Data type of array elements: \", e.dtype)"
      ],
      "metadata": {
        "colab": {
          "base_uri": "https://localhost:8080/"
        },
        "id": "94m48kPAgIRR",
        "outputId": "33fdaacd-2646-43f3-ecbf-bb929af75fba"
      },
      "execution_count": null,
      "outputs": [
        {
          "output_type": "stream",
          "name": "stdout",
          "text": [
            "Array elements:  [10. 20. 30.]\n",
            "Data type of array elements:  float64\n"
          ]
        }
      ]
    },
    {
      "cell_type": "code",
      "source": [
        "f = e.astype(\"int\")\n",
        "print(\"Array elements: \", f)\n",
        "print(\"Data type of array elements: \", f.dtype)"
      ],
      "metadata": {
        "colab": {
          "base_uri": "https://localhost:8080/"
        },
        "id": "W3h0P4ncjJMj",
        "outputId": "aa4a6e91-2959-4c9e-e42e-c6e3af18635f"
      },
      "execution_count": null,
      "outputs": [
        {
          "output_type": "stream",
          "name": "stdout",
          "text": [
            "Array elements:  [10 20 30]\n",
            "Data type of array elements:  int64\n"
          ]
        }
      ]
    },
    {
      "cell_type": "markdown",
      "source": [
        "### ***Matrix generation***"
      ],
      "metadata": {
        "id": "3k-w18UVfwGa"
      }
    },
    {
      "cell_type": "code",
      "source": [
        "# np.arange\n",
        "np.arange(1,11,2)   #np.arange(start,end,jump)"
      ],
      "metadata": {
        "colab": {
          "base_uri": "https://localhost:8080/"
        },
        "id": "JKA7yaqTnV9a",
        "outputId": "6caeb879-2f02-41b3-b646-9e6ed5849f60"
      },
      "execution_count": null,
      "outputs": [
        {
          "output_type": "execute_result",
          "data": {
            "text/plain": [
              "array([1, 3, 5, 7, 9])"
            ]
          },
          "metadata": {},
          "execution_count": 3
        }
      ]
    },
    {
      "cell_type": "code",
      "source": [],
      "metadata": {
        "id": "mI-kjicl41lw"
      },
      "execution_count": null,
      "outputs": []
    },
    {
      "cell_type": "code",
      "source": [
        "# zeroes\n",
        "shape = (2,3)   # should be a tuple\n",
        "np.zeros(shape)"
      ],
      "metadata": {
        "colab": {
          "base_uri": "https://localhost:8080/"
        },
        "id": "gauIK-bJhZvq",
        "outputId": "3790769e-f30e-4465-aca2-df83bac58d59"
      },
      "execution_count": null,
      "outputs": [
        {
          "output_type": "execute_result",
          "data": {
            "text/plain": [
              "array([[0., 0., 0.],\n",
              "       [0., 0., 0.]])"
            ]
          },
          "metadata": {},
          "execution_count": 6
        }
      ]
    },
    {
      "cell_type": "code",
      "source": [
        "# generate a 3x4x2 matrix with all ones\n",
        "np.ones((2, 4, 2))"
      ],
      "metadata": {
        "colab": {
          "base_uri": "https://localhost:8080/"
        },
        "id": "x7XEq2qYn0uq",
        "outputId": "68d097d4-4d28-415e-bb0b-d526f5eaa830"
      },
      "execution_count": null,
      "outputs": [
        {
          "output_type": "execute_result",
          "data": {
            "text/plain": [
              "array([[[1., 1.],\n",
              "        [1., 1.],\n",
              "        [1., 1.],\n",
              "        [1., 1.]],\n",
              "\n",
              "       [[1., 1.],\n",
              "        [1., 1.],\n",
              "        [1., 1.],\n",
              "        [1., 1.]]])"
            ]
          },
          "metadata": {},
          "execution_count": 11
        }
      ]
    },
    {
      "cell_type": "code",
      "source": [
        "# np.identity\n",
        "np.identity(4)\n",
        "\n",
        "# explore np.random"
      ],
      "metadata": {
        "colab": {
          "base_uri": "https://localhost:8080/"
        },
        "id": "Zf3Km8mbh9-u",
        "outputId": "15f2e743-d18e-439a-a638-347eb5d60804"
      },
      "execution_count": null,
      "outputs": [
        {
          "output_type": "execute_result",
          "data": {
            "text/plain": [
              "array([[1., 0., 0., 0.],\n",
              "       [0., 1., 0., 0.],\n",
              "       [0., 0., 1., 0.],\n",
              "       [0., 0., 0., 1.]])"
            ]
          },
          "metadata": {},
          "execution_count": 6
        }
      ]
    },
    {
      "cell_type": "markdown",
      "source": [
        "### ***Matrix Reshape***"
      ],
      "metadata": {
        "id": "uDKIEDQYoM1S"
      }
    },
    {
      "cell_type": "code",
      "source": [
        "# with reshape (4D array)\n",
        "arr = np.arange(120)\n",
        "mat = arr.reshape(5, 4, 3, 2)\n",
        "\n",
        "print(\"Original array: \", arr)\n",
        "\n",
        "print(\"\\nReshaped array: \\n\", mat)"
      ],
      "metadata": {
        "colab": {
          "base_uri": "https://localhost:8080/"
        },
        "id": "70Bfi6vJgiLK",
        "outputId": "a1ef9a45-33c1-473d-eff9-1cc30b61ff74"
      },
      "execution_count": null,
      "outputs": [
        {
          "output_type": "stream",
          "name": "stdout",
          "text": [
            "Original array:  [  0   1   2   3   4   5   6   7   8   9  10  11  12  13  14  15  16  17\n",
            "  18  19  20  21  22  23  24  25  26  27  28  29  30  31  32  33  34  35\n",
            "  36  37  38  39  40  41  42  43  44  45  46  47  48  49  50  51  52  53\n",
            "  54  55  56  57  58  59  60  61  62  63  64  65  66  67  68  69  70  71\n",
            "  72  73  74  75  76  77  78  79  80  81  82  83  84  85  86  87  88  89\n",
            "  90  91  92  93  94  95  96  97  98  99 100 101 102 103 104 105 106 107\n",
            " 108 109 110 111 112 113 114 115 116 117 118 119]\n",
            "\n",
            "Reshaped array: \n",
            " [[[[  0   1]\n",
            "   [  2   3]\n",
            "   [  4   5]]\n",
            "\n",
            "  [[  6   7]\n",
            "   [  8   9]\n",
            "   [ 10  11]]\n",
            "\n",
            "  [[ 12  13]\n",
            "   [ 14  15]\n",
            "   [ 16  17]]\n",
            "\n",
            "  [[ 18  19]\n",
            "   [ 20  21]\n",
            "   [ 22  23]]]\n",
            "\n",
            "\n",
            " [[[ 24  25]\n",
            "   [ 26  27]\n",
            "   [ 28  29]]\n",
            "\n",
            "  [[ 30  31]\n",
            "   [ 32  33]\n",
            "   [ 34  35]]\n",
            "\n",
            "  [[ 36  37]\n",
            "   [ 38  39]\n",
            "   [ 40  41]]\n",
            "\n",
            "  [[ 42  43]\n",
            "   [ 44  45]\n",
            "   [ 46  47]]]\n",
            "\n",
            "\n",
            " [[[ 48  49]\n",
            "   [ 50  51]\n",
            "   [ 52  53]]\n",
            "\n",
            "  [[ 54  55]\n",
            "   [ 56  57]\n",
            "   [ 58  59]]\n",
            "\n",
            "  [[ 60  61]\n",
            "   [ 62  63]\n",
            "   [ 64  65]]\n",
            "\n",
            "  [[ 66  67]\n",
            "   [ 68  69]\n",
            "   [ 70  71]]]\n",
            "\n",
            "\n",
            " [[[ 72  73]\n",
            "   [ 74  75]\n",
            "   [ 76  77]]\n",
            "\n",
            "  [[ 78  79]\n",
            "   [ 80  81]\n",
            "   [ 82  83]]\n",
            "\n",
            "  [[ 84  85]\n",
            "   [ 86  87]\n",
            "   [ 88  89]]\n",
            "\n",
            "  [[ 90  91]\n",
            "   [ 92  93]\n",
            "   [ 94  95]]]\n",
            "\n",
            "\n",
            " [[[ 96  97]\n",
            "   [ 98  99]\n",
            "   [100 101]]\n",
            "\n",
            "  [[102 103]\n",
            "   [104 105]\n",
            "   [106 107]]\n",
            "\n",
            "  [[108 109]\n",
            "   [110 111]\n",
            "   [112 113]]\n",
            "\n",
            "  [[114 115]\n",
            "   [116 117]\n",
            "   [118 119]]]]\n"
          ]
        }
      ]
    },
    {
      "cell_type": "code",
      "source": [
        "mat.ndim #for find dimension"
      ],
      "metadata": {
        "colab": {
          "base_uri": "https://localhost:8080/"
        },
        "id": "hNm72l5go6i-",
        "outputId": "9bc253d1-f2e4-43e2-dd5a-7c44896e20f8"
      },
      "execution_count": null,
      "outputs": [
        {
          "output_type": "execute_result",
          "data": {
            "text/plain": [
              "4"
            ]
          },
          "metadata": {},
          "execution_count": 14
        }
      ]
    },
    {
      "cell_type": "markdown",
      "source": [
        "### ***Operations***"
      ],
      "metadata": {
        "id": "1nVczSyoqjFU"
      }
    },
    {
      "cell_type": "code",
      "source": [
        "# Element-wise boolean\n",
        "b=np.array([[1,2,3],\n",
        "            [3,2,1]])\n",
        "\n",
        "# b == 1\n",
        "b == [1,2,3]  # broadcasts b to a 2d array of the form - [[1,2,3],[1,2,3]]"
      ],
      "metadata": {
        "colab": {
          "base_uri": "https://localhost:8080/"
        },
        "id": "ZpkSOQhsqZaz",
        "outputId": "3855b136-dc9c-4f1c-bc40-0b8644709c31"
      },
      "execution_count": null,
      "outputs": [
        {
          "output_type": "execute_result",
          "data": {
            "text/plain": [
              "array([[ True,  True,  True],\n",
              "       [False,  True, False]])"
            ]
          },
          "metadata": {},
          "execution_count": 11
        }
      ]
    },
    {
      "cell_type": "code",
      "source": [
        "a = np.ones((2,3))\n",
        "b = np.zeros((2,3))\n",
        "\n",
        "print(\"a: \\n\",a)\n",
        "print(\"\\nb: \\n\",b)\n",
        "\n",
        "c = np.concatenate((a,b), axis=0)\n",
        "print(\"\\nc \\n\",c)\n",
        "\n",
        "d = np.concatenate((a,b), axis=1)\n",
        "print(\"\\nd \\n\",d)"
      ],
      "metadata": {
        "colab": {
          "base_uri": "https://localhost:8080/"
        },
        "id": "W2TCcqCalqZ8",
        "outputId": "0703ab62-f48d-4fd9-c18f-9c4c08bd730c"
      },
      "execution_count": null,
      "outputs": [
        {
          "output_type": "stream",
          "name": "stdout",
          "text": [
            "a: \n",
            " [[1. 1. 1.]\n",
            " [1. 1. 1.]]\n",
            "\n",
            "b: \n",
            " [[0. 0. 0.]\n",
            " [0. 0. 0.]]\n",
            "\n",
            "c \n",
            " [[1. 1. 1.]\n",
            " [1. 1. 1.]\n",
            " [0. 0. 0.]\n",
            " [0. 0. 0.]]\n",
            "\n",
            "d \n",
            " [[1. 1. 1. 0. 0. 0.]\n",
            " [1. 1. 1. 0. 0. 0.]]\n"
          ]
        }
      ]
    },
    {
      "cell_type": "code",
      "source": [
        "# Transpose operation\n",
        "\n",
        "org = np.array([[1,2,3],[4,5,6]])\n",
        "trans = org.T\n",
        "\n",
        "print(\"Original Matrix:\\n\",org)\n",
        "print(\"\\nTranspose:\\n\",trans)"
      ],
      "metadata": {
        "colab": {
          "base_uri": "https://localhost:8080/"
        },
        "id": "OOhF_twimT4-",
        "outputId": "b9595c5c-9ea3-4e40-b967-4560b5a6f50e"
      },
      "execution_count": null,
      "outputs": [
        {
          "output_type": "stream",
          "name": "stdout",
          "text": [
            "Original Matrix:\n",
            " [[1 2 3]\n",
            " [4 5 6]]\n",
            "\n",
            "Transpose:\n",
            " [[1 4]\n",
            " [2 5]\n",
            " [3 6]]\n"
          ]
        }
      ]
    },
    {
      "cell_type": "code",
      "source": [
        "# Arithmetic operators\n",
        "\n",
        "print(\"Subtraction:\\n\",org-2)\n",
        "print(\"\\nMultiplication:\\n\",org*2)\n",
        "\n",
        "# Explore the rest by yourselves"
      ],
      "metadata": {
        "colab": {
          "base_uri": "https://localhost:8080/"
        },
        "id": "uuqMC9MTniW7",
        "outputId": "9cd99ca8-4891-4875-dd5d-76fc84352226"
      },
      "execution_count": null,
      "outputs": [
        {
          "output_type": "stream",
          "name": "stdout",
          "text": [
            "Subtraction:\n",
            " [[-1  0  1]\n",
            " [ 2  3  4]]\n",
            "\n",
            "Multiplication:\n",
            " [[ 2  4  6]\n",
            " [ 8 10 12]]\n"
          ]
        }
      ]
    },
    {
      "cell_type": "markdown",
      "source": [
        "### ***Extra Functions***"
      ],
      "metadata": {
        "id": "7iwH7Yvvq63Z"
      }
    },
    {
      "cell_type": "code",
      "source": [
        "a1 = np.random.random((3,2))\n",
        "\n",
        "a1"
      ],
      "metadata": {
        "colab": {
          "base_uri": "https://localhost:8080/"
        },
        "id": "ULl6kYXklVm6",
        "outputId": "895233ca-a920-42ac-e32b-d7d153740a53"
      },
      "execution_count": null,
      "outputs": [
        {
          "output_type": "execute_result",
          "data": {
            "text/plain": [
              "array([[0.84118971, 0.8433813 ],\n",
              "       [0.22743256, 0.3939718 ],\n",
              "       [0.37185322, 0.72022574]])"
            ]
          },
          "metadata": {},
          "execution_count": 16
        }
      ]
    },
    {
      "cell_type": "code",
      "source": [
        "# 0->col, 1->row\n",
        "print('col wise=\\n',np.prod(a1,axis=0))\n",
        "\n",
        "print('\\n\\nproduct=\\n',np.prod(a1))\n",
        "\n",
        "print('\\n\\nmean=\\n',np.mean(a1))\n",
        "\n",
        "print('\\n\\nmean row wise=\\n',np.mean(a1,axis=1))\n",
        "\n",
        "print('\\n\\nmean col wise=\\n',np.mean(a1,axis=0))"
      ],
      "metadata": {
        "colab": {
          "base_uri": "https://localhost:8080/"
        },
        "id": "7f3bC0cErAIb",
        "outputId": "0c29921c-f462-4f1f-df72-fcd81b4a2aae"
      },
      "execution_count": null,
      "outputs": [
        {
          "output_type": "stream",
          "name": "stdout",
          "text": [
            "col wise=\n",
            " [0.08725098 0.27207663]\n",
            "\n",
            "\n",
            "product=\n",
            " 0.023738953802982334\n",
            "\n",
            "\n",
            "mean=\n",
            " 0.6436230227750998\n",
            "\n",
            "\n",
            "mean row wise=\n",
            " [0.81802015 0.47095128 0.64189764]\n",
            "\n",
            "\n",
            "mean col wise=\n",
            " [0.61013793 0.67710811]\n"
          ]
        }
      ]
    },
    {
      "cell_type": "code",
      "source": [
        "# Matrix Multiplication\n",
        "\n",
        "a = np.arange(12).reshape(3,4)\n",
        "b = np.arange(12,24).reshape(4,3)\n",
        "\n",
        "print(f'a =\\n{a}')\n",
        "print(f'b =\\n{b}')\n",
        "\n",
        "np.dot(a,b)\n",
        "\n",
        "# Explore : Matmul. Experiment with different dimensions for the two matrices"
      ],
      "metadata": {
        "colab": {
          "base_uri": "https://localhost:8080/"
        },
        "id": "_Q0ZXJITsiTn",
        "outputId": "5489d999-bfe5-405f-8277-68d2f29fcba7"
      },
      "execution_count": null,
      "outputs": [
        {
          "output_type": "stream",
          "name": "stdout",
          "text": [
            "a =\n",
            "[[ 0  1  2  3]\n",
            " [ 4  5  6  7]\n",
            " [ 8  9 10 11]]\n",
            "b =\n",
            "[[12 13 14]\n",
            " [15 16 17]\n",
            " [18 19 20]\n",
            " [21 22 23]]\n"
          ]
        },
        {
          "output_type": "execute_result",
          "data": {
            "text/plain": [
              "array([[114, 120, 126],\n",
              "       [378, 400, 422],\n",
              "       [642, 680, 718]])"
            ]
          },
          "metadata": {},
          "execution_count": 15
        }
      ]
    },
    {
      "cell_type": "markdown",
      "source": [
        "### ***Indexing and Slicing***"
      ],
      "metadata": {
        "id": "GdKDjIAws-Ix"
      }
    },
    {
      "cell_type": "code",
      "source": [
        "a1 = np.arange(10)\n",
        "a2 = np.arange(12).reshape(3,4)\n",
        "\n",
        "print(\"a1:\\n\",a1,\"\\n\\na2:\\n\",a2)"
      ],
      "metadata": {
        "colab": {
          "base_uri": "https://localhost:8080/"
        },
        "id": "Id2biRMBsv_w",
        "outputId": "68d32e55-1aad-4d9c-cee4-63a677a5997c"
      },
      "execution_count": null,
      "outputs": [
        {
          "output_type": "stream",
          "name": "stdout",
          "text": [
            "a1:\n",
            " [0 1 2 3 4 5 6 7 8 9] \n",
            "\n",
            "a2:\n",
            " [[ 0  1  2  3]\n",
            " [ 4  5  6  7]\n",
            " [ 8  9 10 11]]\n"
          ]
        }
      ]
    },
    {
      "cell_type": "code",
      "source": [
        "a1[2:10:2]  #[start,end,step]"
      ],
      "metadata": {
        "id": "aHY5BTRPvGQk",
        "colab": {
          "base_uri": "https://localhost:8080/"
        },
        "outputId": "7d35d098-9c91-4d9e-e553-476e5f3773e4"
      },
      "execution_count": null,
      "outputs": [
        {
          "output_type": "execute_result",
          "data": {
            "text/plain": [
              "array([2, 4, 6, 8])"
            ]
          },
          "metadata": {},
          "execution_count": 19
        }
      ]
    },
    {
      "cell_type": "code",
      "source": [
        "a2[0]  #[row,col]"
      ],
      "metadata": {
        "colab": {
          "base_uri": "https://localhost:8080/"
        },
        "id": "2kx2AvhVtEa1",
        "outputId": "76cab2d0-10c7-400d-b457-12ee438b0061"
      },
      "execution_count": null,
      "outputs": [
        {
          "output_type": "execute_result",
          "data": {
            "text/plain": [
              "array([0, 1, 2, 3])"
            ]
          },
          "metadata": {},
          "execution_count": 19
        }
      ]
    },
    {
      "cell_type": "code",
      "source": [
        "a2[0:2,1::2]  #[row,col]"
      ],
      "metadata": {
        "colab": {
          "base_uri": "https://localhost:8080/"
        },
        "id": "ITOii6fTwNEX",
        "outputId": "b72178ed-bb26-4f56-bb39-06d645af5c26"
      },
      "execution_count": null,
      "outputs": [
        {
          "output_type": "execute_result",
          "data": {
            "text/plain": [
              "array([[1, 3],\n",
              "       [5, 7]])"
            ]
          },
          "metadata": {},
          "execution_count": 25
        }
      ]
    },
    {
      "cell_type": "code",
      "source": [
        "a2[1,::]"
      ],
      "metadata": {
        "colab": {
          "base_uri": "https://localhost:8080/"
        },
        "id": "62M6uSn_wOzs",
        "outputId": "af58733b-2d13-4771-959d-7085328d0e03"
      },
      "execution_count": null,
      "outputs": [
        {
          "output_type": "execute_result",
          "data": {
            "text/plain": [
              "array([4, 7])"
            ]
          },
          "metadata": {},
          "execution_count": 26
        }
      ]
    },
    {
      "cell_type": "markdown",
      "source": [
        "# ***PANDAS***"
      ],
      "metadata": {
        "id": "dCjJJHLWbB74"
      }
    },
    {
      "cell_type": "code",
      "source": [
        "import pandas as pd"
      ],
      "metadata": {
        "id": "5h_w1iRqbI0_"
      },
      "execution_count": null,
      "outputs": []
    },
    {
      "cell_type": "code",
      "source": [
        "# Converting a list into a DataFrame\n",
        "\n",
        "list1 = [10, 20, 30, 40]\n",
        "table = pd.DataFrame(list1,columns=['abc'])\n",
        "table"
      ],
      "metadata": {
        "id": "SjbvhCRTbZsA",
        "colab": {
          "base_uri": "https://localhost:8080/",
          "height": 175
        },
        "outputId": "50dc3219-5118-41fc-f115-04b92655eedd"
      },
      "execution_count": null,
      "outputs": [
        {
          "output_type": "execute_result",
          "data": {
            "text/plain": [
              "   abc\n",
              "0   10\n",
              "1   20\n",
              "2   30\n",
              "3   40"
            ],
            "text/html": [
              "\n",
              "  <div id=\"df-3fea0357-4ac5-4e7b-8d82-ae6f2e133722\" class=\"colab-df-container\">\n",
              "    <div>\n",
              "<style scoped>\n",
              "    .dataframe tbody tr th:only-of-type {\n",
              "        vertical-align: middle;\n",
              "    }\n",
              "\n",
              "    .dataframe tbody tr th {\n",
              "        vertical-align: top;\n",
              "    }\n",
              "\n",
              "    .dataframe thead th {\n",
              "        text-align: right;\n",
              "    }\n",
              "</style>\n",
              "<table border=\"1\" class=\"dataframe\">\n",
              "  <thead>\n",
              "    <tr style=\"text-align: right;\">\n",
              "      <th></th>\n",
              "      <th>abc</th>\n",
              "    </tr>\n",
              "  </thead>\n",
              "  <tbody>\n",
              "    <tr>\n",
              "      <th>0</th>\n",
              "      <td>10</td>\n",
              "    </tr>\n",
              "    <tr>\n",
              "      <th>1</th>\n",
              "      <td>20</td>\n",
              "    </tr>\n",
              "    <tr>\n",
              "      <th>2</th>\n",
              "      <td>30</td>\n",
              "    </tr>\n",
              "    <tr>\n",
              "      <th>3</th>\n",
              "      <td>40</td>\n",
              "    </tr>\n",
              "  </tbody>\n",
              "</table>\n",
              "</div>\n",
              "    <div class=\"colab-df-buttons\">\n",
              "\n",
              "  <div class=\"colab-df-container\">\n",
              "    <button class=\"colab-df-convert\" onclick=\"convertToInteractive('df-3fea0357-4ac5-4e7b-8d82-ae6f2e133722')\"\n",
              "            title=\"Convert this dataframe to an interactive table.\"\n",
              "            style=\"display:none;\">\n",
              "\n",
              "  <svg xmlns=\"http://www.w3.org/2000/svg\" height=\"24px\" viewBox=\"0 -960 960 960\">\n",
              "    <path d=\"M120-120v-720h720v720H120Zm60-500h600v-160H180v160Zm220 220h160v-160H400v160Zm0 220h160v-160H400v160ZM180-400h160v-160H180v160Zm440 0h160v-160H620v160ZM180-180h160v-160H180v160Zm440 0h160v-160H620v160Z\"/>\n",
              "  </svg>\n",
              "    </button>\n",
              "\n",
              "  <style>\n",
              "    .colab-df-container {\n",
              "      display:flex;\n",
              "      gap: 12px;\n",
              "    }\n",
              "\n",
              "    .colab-df-convert {\n",
              "      background-color: #E8F0FE;\n",
              "      border: none;\n",
              "      border-radius: 50%;\n",
              "      cursor: pointer;\n",
              "      display: none;\n",
              "      fill: #1967D2;\n",
              "      height: 32px;\n",
              "      padding: 0 0 0 0;\n",
              "      width: 32px;\n",
              "    }\n",
              "\n",
              "    .colab-df-convert:hover {\n",
              "      background-color: #E2EBFA;\n",
              "      box-shadow: 0px 1px 2px rgba(60, 64, 67, 0.3), 0px 1px 3px 1px rgba(60, 64, 67, 0.15);\n",
              "      fill: #174EA6;\n",
              "    }\n",
              "\n",
              "    .colab-df-buttons div {\n",
              "      margin-bottom: 4px;\n",
              "    }\n",
              "\n",
              "    [theme=dark] .colab-df-convert {\n",
              "      background-color: #3B4455;\n",
              "      fill: #D2E3FC;\n",
              "    }\n",
              "\n",
              "    [theme=dark] .colab-df-convert:hover {\n",
              "      background-color: #434B5C;\n",
              "      box-shadow: 0px 1px 3px 1px rgba(0, 0, 0, 0.15);\n",
              "      filter: drop-shadow(0px 1px 2px rgba(0, 0, 0, 0.3));\n",
              "      fill: #FFFFFF;\n",
              "    }\n",
              "  </style>\n",
              "\n",
              "    <script>\n",
              "      const buttonEl =\n",
              "        document.querySelector('#df-3fea0357-4ac5-4e7b-8d82-ae6f2e133722 button.colab-df-convert');\n",
              "      buttonEl.style.display =\n",
              "        google.colab.kernel.accessAllowed ? 'block' : 'none';\n",
              "\n",
              "      async function convertToInteractive(key) {\n",
              "        const element = document.querySelector('#df-3fea0357-4ac5-4e7b-8d82-ae6f2e133722');\n",
              "        const dataTable =\n",
              "          await google.colab.kernel.invokeFunction('convertToInteractive',\n",
              "                                                    [key], {});\n",
              "        if (!dataTable) return;\n",
              "\n",
              "        const docLinkHtml = 'Like what you see? Visit the ' +\n",
              "          '<a target=\"_blank\" href=https://colab.research.google.com/notebooks/data_table.ipynb>data table notebook</a>'\n",
              "          + ' to learn more about interactive tables.';\n",
              "        element.innerHTML = '';\n",
              "        dataTable['output_type'] = 'display_data';\n",
              "        await google.colab.output.renderOutput(dataTable, element);\n",
              "        const docLink = document.createElement('div');\n",
              "        docLink.innerHTML = docLinkHtml;\n",
              "        element.appendChild(docLink);\n",
              "      }\n",
              "    </script>\n",
              "  </div>\n",
              "\n",
              "\n",
              "<div id=\"df-a9a51f3b-dc0b-41e4-b106-0a2c5b14396a\">\n",
              "  <button class=\"colab-df-quickchart\" onclick=\"quickchart('df-a9a51f3b-dc0b-41e4-b106-0a2c5b14396a')\"\n",
              "            title=\"Suggest charts\"\n",
              "            style=\"display:none;\">\n",
              "\n",
              "<svg xmlns=\"http://www.w3.org/2000/svg\" height=\"24px\"viewBox=\"0 0 24 24\"\n",
              "     width=\"24px\">\n",
              "    <g>\n",
              "        <path d=\"M19 3H5c-1.1 0-2 .9-2 2v14c0 1.1.9 2 2 2h14c1.1 0 2-.9 2-2V5c0-1.1-.9-2-2-2zM9 17H7v-7h2v7zm4 0h-2V7h2v10zm4 0h-2v-4h2v4z\"/>\n",
              "    </g>\n",
              "</svg>\n",
              "  </button>\n",
              "\n",
              "<style>\n",
              "  .colab-df-quickchart {\n",
              "      --bg-color: #E8F0FE;\n",
              "      --fill-color: #1967D2;\n",
              "      --hover-bg-color: #E2EBFA;\n",
              "      --hover-fill-color: #174EA6;\n",
              "      --disabled-fill-color: #AAA;\n",
              "      --disabled-bg-color: #DDD;\n",
              "  }\n",
              "\n",
              "  [theme=dark] .colab-df-quickchart {\n",
              "      --bg-color: #3B4455;\n",
              "      --fill-color: #D2E3FC;\n",
              "      --hover-bg-color: #434B5C;\n",
              "      --hover-fill-color: #FFFFFF;\n",
              "      --disabled-bg-color: #3B4455;\n",
              "      --disabled-fill-color: #666;\n",
              "  }\n",
              "\n",
              "  .colab-df-quickchart {\n",
              "    background-color: var(--bg-color);\n",
              "    border: none;\n",
              "    border-radius: 50%;\n",
              "    cursor: pointer;\n",
              "    display: none;\n",
              "    fill: var(--fill-color);\n",
              "    height: 32px;\n",
              "    padding: 0;\n",
              "    width: 32px;\n",
              "  }\n",
              "\n",
              "  .colab-df-quickchart:hover {\n",
              "    background-color: var(--hover-bg-color);\n",
              "    box-shadow: 0 1px 2px rgba(60, 64, 67, 0.3), 0 1px 3px 1px rgba(60, 64, 67, 0.15);\n",
              "    fill: var(--button-hover-fill-color);\n",
              "  }\n",
              "\n",
              "  .colab-df-quickchart-complete:disabled,\n",
              "  .colab-df-quickchart-complete:disabled:hover {\n",
              "    background-color: var(--disabled-bg-color);\n",
              "    fill: var(--disabled-fill-color);\n",
              "    box-shadow: none;\n",
              "  }\n",
              "\n",
              "  .colab-df-spinner {\n",
              "    border: 2px solid var(--fill-color);\n",
              "    border-color: transparent;\n",
              "    border-bottom-color: var(--fill-color);\n",
              "    animation:\n",
              "      spin 1s steps(1) infinite;\n",
              "  }\n",
              "\n",
              "  @keyframes spin {\n",
              "    0% {\n",
              "      border-color: transparent;\n",
              "      border-bottom-color: var(--fill-color);\n",
              "      border-left-color: var(--fill-color);\n",
              "    }\n",
              "    20% {\n",
              "      border-color: transparent;\n",
              "      border-left-color: var(--fill-color);\n",
              "      border-top-color: var(--fill-color);\n",
              "    }\n",
              "    30% {\n",
              "      border-color: transparent;\n",
              "      border-left-color: var(--fill-color);\n",
              "      border-top-color: var(--fill-color);\n",
              "      border-right-color: var(--fill-color);\n",
              "    }\n",
              "    40% {\n",
              "      border-color: transparent;\n",
              "      border-right-color: var(--fill-color);\n",
              "      border-top-color: var(--fill-color);\n",
              "    }\n",
              "    60% {\n",
              "      border-color: transparent;\n",
              "      border-right-color: var(--fill-color);\n",
              "    }\n",
              "    80% {\n",
              "      border-color: transparent;\n",
              "      border-right-color: var(--fill-color);\n",
              "      border-bottom-color: var(--fill-color);\n",
              "    }\n",
              "    90% {\n",
              "      border-color: transparent;\n",
              "      border-bottom-color: var(--fill-color);\n",
              "    }\n",
              "  }\n",
              "</style>\n",
              "\n",
              "  <script>\n",
              "    async function quickchart(key) {\n",
              "      const quickchartButtonEl =\n",
              "        document.querySelector('#' + key + ' button');\n",
              "      quickchartButtonEl.disabled = true;  // To prevent multiple clicks.\n",
              "      quickchartButtonEl.classList.add('colab-df-spinner');\n",
              "      try {\n",
              "        const charts = await google.colab.kernel.invokeFunction(\n",
              "            'suggestCharts', [key], {});\n",
              "      } catch (error) {\n",
              "        console.error('Error during call to suggestCharts:', error);\n",
              "      }\n",
              "      quickchartButtonEl.classList.remove('colab-df-spinner');\n",
              "      quickchartButtonEl.classList.add('colab-df-quickchart-complete');\n",
              "    }\n",
              "    (() => {\n",
              "      let quickchartButtonEl =\n",
              "        document.querySelector('#df-a9a51f3b-dc0b-41e4-b106-0a2c5b14396a button');\n",
              "      quickchartButtonEl.style.display =\n",
              "        google.colab.kernel.accessAllowed ? 'block' : 'none';\n",
              "    })();\n",
              "  </script>\n",
              "</div>\n",
              "\n",
              "  <div id=\"id_a42c85b6-4c35-4246-804e-23a3b25b9b92\">\n",
              "    <style>\n",
              "      .colab-df-generate {\n",
              "        background-color: #E8F0FE;\n",
              "        border: none;\n",
              "        border-radius: 50%;\n",
              "        cursor: pointer;\n",
              "        display: none;\n",
              "        fill: #1967D2;\n",
              "        height: 32px;\n",
              "        padding: 0 0 0 0;\n",
              "        width: 32px;\n",
              "      }\n",
              "\n",
              "      .colab-df-generate:hover {\n",
              "        background-color: #E2EBFA;\n",
              "        box-shadow: 0px 1px 2px rgba(60, 64, 67, 0.3), 0px 1px 3px 1px rgba(60, 64, 67, 0.15);\n",
              "        fill: #174EA6;\n",
              "      }\n",
              "\n",
              "      [theme=dark] .colab-df-generate {\n",
              "        background-color: #3B4455;\n",
              "        fill: #D2E3FC;\n",
              "      }\n",
              "\n",
              "      [theme=dark] .colab-df-generate:hover {\n",
              "        background-color: #434B5C;\n",
              "        box-shadow: 0px 1px 3px 1px rgba(0, 0, 0, 0.15);\n",
              "        filter: drop-shadow(0px 1px 2px rgba(0, 0, 0, 0.3));\n",
              "        fill: #FFFFFF;\n",
              "      }\n",
              "    </style>\n",
              "    <button class=\"colab-df-generate\" onclick=\"generateWithVariable('table')\"\n",
              "            title=\"Generate code using this dataframe.\"\n",
              "            style=\"display:none;\">\n",
              "\n",
              "  <svg xmlns=\"http://www.w3.org/2000/svg\" height=\"24px\"viewBox=\"0 0 24 24\"\n",
              "       width=\"24px\">\n",
              "    <path d=\"M7,19H8.4L18.45,9,17,7.55,7,17.6ZM5,21V16.75L18.45,3.32a2,2,0,0,1,2.83,0l1.4,1.43a1.91,1.91,0,0,1,.58,1.4,1.91,1.91,0,0,1-.58,1.4L9.25,21ZM18.45,9,17,7.55Zm-12,3A5.31,5.31,0,0,0,4.9,8.1,5.31,5.31,0,0,0,1,6.5,5.31,5.31,0,0,0,4.9,4.9,5.31,5.31,0,0,0,6.5,1,5.31,5.31,0,0,0,8.1,4.9,5.31,5.31,0,0,0,12,6.5,5.46,5.46,0,0,0,6.5,12Z\"/>\n",
              "  </svg>\n",
              "    </button>\n",
              "    <script>\n",
              "      (() => {\n",
              "      const buttonEl =\n",
              "        document.querySelector('#id_a42c85b6-4c35-4246-804e-23a3b25b9b92 button.colab-df-generate');\n",
              "      buttonEl.style.display =\n",
              "        google.colab.kernel.accessAllowed ? 'block' : 'none';\n",
              "\n",
              "      buttonEl.onclick = () => {\n",
              "        google.colab.notebook.generateWithVariable('table');\n",
              "      }\n",
              "      })();\n",
              "    </script>\n",
              "  </div>\n",
              "\n",
              "    </div>\n",
              "  </div>\n"
            ],
            "application/vnd.google.colaboratory.intrinsic+json": {
              "type": "dataframe",
              "variable_name": "table",
              "summary": "{\n  \"name\": \"table\",\n  \"rows\": 4,\n  \"fields\": [\n    {\n      \"column\": \"abc\",\n      \"properties\": {\n        \"dtype\": \"number\",\n        \"std\": 12,\n        \"min\": 10,\n        \"max\": 40,\n        \"num_unique_values\": 4,\n        \"samples\": [\n          20,\n          40,\n          10\n        ],\n        \"semantic_type\": \"\",\n        \"description\": \"\"\n      }\n    }\n  ]\n}"
            }
          },
          "metadata": {},
          "execution_count": 22
        }
      ]
    },
    {
      "cell_type": "code",
      "source": [
        "# Creating a list of dictionaries with 4 columns and 8 rows\n",
        "data = [\n",
        "    {'a': 1, 'b': 2, 'c': 3, 'd': 4},\n",
        "    {'a': 2, 'b': 4, 'c': 8, 'd': 16},\n",
        "    {'a': 3, 'b': 6, 'c': 9},       # Missing 'd' column\n",
        "    {'a': 4, 'b': 8, 'd': 32},      # Missing 'c' column\n",
        "    {'a': 5, 'c': 10, 'd': 40},     # Missing 'b' column\n",
        "    {'b': 12, 'c': 15, 'd': 50},    # Missing 'a' column\n",
        "    {'a': 6, 'b': 14},              # Missing 'c' and 'd' columns\n",
        "    {'a': 7, 'd': 60}               # Missing 'b' and 'c' columns\n",
        "]\n",
        "\n",
        "# Creating the DataFrame from the list of dictionaries\n",
        "table1 = pd.DataFrame(data)\n",
        "\n",
        "# Displaying the DataFrame\n",
        "table1\n",
        "\n",
        "# NaN (not a number) is stored in areas where no data is provided"
      ],
      "metadata": {
        "id": "wRAeXKufbcL2",
        "colab": {
          "base_uri": "https://localhost:8080/",
          "height": 300
        },
        "outputId": "df7a7a5e-157f-4aca-9771-c444c2eca665"
      },
      "execution_count": null,
      "outputs": [
        {
          "output_type": "execute_result",
          "data": {
            "text/plain": [
              "     a     b     c     d\n",
              "0  1.0   2.0   3.0   4.0\n",
              "1  2.0   4.0   8.0  16.0\n",
              "2  3.0   6.0   9.0   NaN\n",
              "3  4.0   8.0   NaN  32.0\n",
              "4  5.0   NaN  10.0  40.0\n",
              "5  NaN  12.0  15.0  50.0\n",
              "6  6.0  14.0   NaN   NaN\n",
              "7  7.0   NaN   NaN  60.0"
            ],
            "text/html": [
              "\n",
              "  <div id=\"df-ba4cd583-931e-4873-87da-58cf16325045\" class=\"colab-df-container\">\n",
              "    <div>\n",
              "<style scoped>\n",
              "    .dataframe tbody tr th:only-of-type {\n",
              "        vertical-align: middle;\n",
              "    }\n",
              "\n",
              "    .dataframe tbody tr th {\n",
              "        vertical-align: top;\n",
              "    }\n",
              "\n",
              "    .dataframe thead th {\n",
              "        text-align: right;\n",
              "    }\n",
              "</style>\n",
              "<table border=\"1\" class=\"dataframe\">\n",
              "  <thead>\n",
              "    <tr style=\"text-align: right;\">\n",
              "      <th></th>\n",
              "      <th>a</th>\n",
              "      <th>b</th>\n",
              "      <th>c</th>\n",
              "      <th>d</th>\n",
              "    </tr>\n",
              "  </thead>\n",
              "  <tbody>\n",
              "    <tr>\n",
              "      <th>0</th>\n",
              "      <td>1.0</td>\n",
              "      <td>2.0</td>\n",
              "      <td>3.0</td>\n",
              "      <td>4.0</td>\n",
              "    </tr>\n",
              "    <tr>\n",
              "      <th>1</th>\n",
              "      <td>2.0</td>\n",
              "      <td>4.0</td>\n",
              "      <td>8.0</td>\n",
              "      <td>16.0</td>\n",
              "    </tr>\n",
              "    <tr>\n",
              "      <th>2</th>\n",
              "      <td>3.0</td>\n",
              "      <td>6.0</td>\n",
              "      <td>9.0</td>\n",
              "      <td>NaN</td>\n",
              "    </tr>\n",
              "    <tr>\n",
              "      <th>3</th>\n",
              "      <td>4.0</td>\n",
              "      <td>8.0</td>\n",
              "      <td>NaN</td>\n",
              "      <td>32.0</td>\n",
              "    </tr>\n",
              "    <tr>\n",
              "      <th>4</th>\n",
              "      <td>5.0</td>\n",
              "      <td>NaN</td>\n",
              "      <td>10.0</td>\n",
              "      <td>40.0</td>\n",
              "    </tr>\n",
              "    <tr>\n",
              "      <th>5</th>\n",
              "      <td>NaN</td>\n",
              "      <td>12.0</td>\n",
              "      <td>15.0</td>\n",
              "      <td>50.0</td>\n",
              "    </tr>\n",
              "    <tr>\n",
              "      <th>6</th>\n",
              "      <td>6.0</td>\n",
              "      <td>14.0</td>\n",
              "      <td>NaN</td>\n",
              "      <td>NaN</td>\n",
              "    </tr>\n",
              "    <tr>\n",
              "      <th>7</th>\n",
              "      <td>7.0</td>\n",
              "      <td>NaN</td>\n",
              "      <td>NaN</td>\n",
              "      <td>60.0</td>\n",
              "    </tr>\n",
              "  </tbody>\n",
              "</table>\n",
              "</div>\n",
              "    <div class=\"colab-df-buttons\">\n",
              "\n",
              "  <div class=\"colab-df-container\">\n",
              "    <button class=\"colab-df-convert\" onclick=\"convertToInteractive('df-ba4cd583-931e-4873-87da-58cf16325045')\"\n",
              "            title=\"Convert this dataframe to an interactive table.\"\n",
              "            style=\"display:none;\">\n",
              "\n",
              "  <svg xmlns=\"http://www.w3.org/2000/svg\" height=\"24px\" viewBox=\"0 -960 960 960\">\n",
              "    <path d=\"M120-120v-720h720v720H120Zm60-500h600v-160H180v160Zm220 220h160v-160H400v160Zm0 220h160v-160H400v160ZM180-400h160v-160H180v160Zm440 0h160v-160H620v160ZM180-180h160v-160H180v160Zm440 0h160v-160H620v160Z\"/>\n",
              "  </svg>\n",
              "    </button>\n",
              "\n",
              "  <style>\n",
              "    .colab-df-container {\n",
              "      display:flex;\n",
              "      gap: 12px;\n",
              "    }\n",
              "\n",
              "    .colab-df-convert {\n",
              "      background-color: #E8F0FE;\n",
              "      border: none;\n",
              "      border-radius: 50%;\n",
              "      cursor: pointer;\n",
              "      display: none;\n",
              "      fill: #1967D2;\n",
              "      height: 32px;\n",
              "      padding: 0 0 0 0;\n",
              "      width: 32px;\n",
              "    }\n",
              "\n",
              "    .colab-df-convert:hover {\n",
              "      background-color: #E2EBFA;\n",
              "      box-shadow: 0px 1px 2px rgba(60, 64, 67, 0.3), 0px 1px 3px 1px rgba(60, 64, 67, 0.15);\n",
              "      fill: #174EA6;\n",
              "    }\n",
              "\n",
              "    .colab-df-buttons div {\n",
              "      margin-bottom: 4px;\n",
              "    }\n",
              "\n",
              "    [theme=dark] .colab-df-convert {\n",
              "      background-color: #3B4455;\n",
              "      fill: #D2E3FC;\n",
              "    }\n",
              "\n",
              "    [theme=dark] .colab-df-convert:hover {\n",
              "      background-color: #434B5C;\n",
              "      box-shadow: 0px 1px 3px 1px rgba(0, 0, 0, 0.15);\n",
              "      filter: drop-shadow(0px 1px 2px rgba(0, 0, 0, 0.3));\n",
              "      fill: #FFFFFF;\n",
              "    }\n",
              "  </style>\n",
              "\n",
              "    <script>\n",
              "      const buttonEl =\n",
              "        document.querySelector('#df-ba4cd583-931e-4873-87da-58cf16325045 button.colab-df-convert');\n",
              "      buttonEl.style.display =\n",
              "        google.colab.kernel.accessAllowed ? 'block' : 'none';\n",
              "\n",
              "      async function convertToInteractive(key) {\n",
              "        const element = document.querySelector('#df-ba4cd583-931e-4873-87da-58cf16325045');\n",
              "        const dataTable =\n",
              "          await google.colab.kernel.invokeFunction('convertToInteractive',\n",
              "                                                    [key], {});\n",
              "        if (!dataTable) return;\n",
              "\n",
              "        const docLinkHtml = 'Like what you see? Visit the ' +\n",
              "          '<a target=\"_blank\" href=https://colab.research.google.com/notebooks/data_table.ipynb>data table notebook</a>'\n",
              "          + ' to learn more about interactive tables.';\n",
              "        element.innerHTML = '';\n",
              "        dataTable['output_type'] = 'display_data';\n",
              "        await google.colab.output.renderOutput(dataTable, element);\n",
              "        const docLink = document.createElement('div');\n",
              "        docLink.innerHTML = docLinkHtml;\n",
              "        element.appendChild(docLink);\n",
              "      }\n",
              "    </script>\n",
              "  </div>\n",
              "\n",
              "\n",
              "<div id=\"df-fce68d04-9f90-45a6-bac9-39a47bb719b9\">\n",
              "  <button class=\"colab-df-quickchart\" onclick=\"quickchart('df-fce68d04-9f90-45a6-bac9-39a47bb719b9')\"\n",
              "            title=\"Suggest charts\"\n",
              "            style=\"display:none;\">\n",
              "\n",
              "<svg xmlns=\"http://www.w3.org/2000/svg\" height=\"24px\"viewBox=\"0 0 24 24\"\n",
              "     width=\"24px\">\n",
              "    <g>\n",
              "        <path d=\"M19 3H5c-1.1 0-2 .9-2 2v14c0 1.1.9 2 2 2h14c1.1 0 2-.9 2-2V5c0-1.1-.9-2-2-2zM9 17H7v-7h2v7zm4 0h-2V7h2v10zm4 0h-2v-4h2v4z\"/>\n",
              "    </g>\n",
              "</svg>\n",
              "  </button>\n",
              "\n",
              "<style>\n",
              "  .colab-df-quickchart {\n",
              "      --bg-color: #E8F0FE;\n",
              "      --fill-color: #1967D2;\n",
              "      --hover-bg-color: #E2EBFA;\n",
              "      --hover-fill-color: #174EA6;\n",
              "      --disabled-fill-color: #AAA;\n",
              "      --disabled-bg-color: #DDD;\n",
              "  }\n",
              "\n",
              "  [theme=dark] .colab-df-quickchart {\n",
              "      --bg-color: #3B4455;\n",
              "      --fill-color: #D2E3FC;\n",
              "      --hover-bg-color: #434B5C;\n",
              "      --hover-fill-color: #FFFFFF;\n",
              "      --disabled-bg-color: #3B4455;\n",
              "      --disabled-fill-color: #666;\n",
              "  }\n",
              "\n",
              "  .colab-df-quickchart {\n",
              "    background-color: var(--bg-color);\n",
              "    border: none;\n",
              "    border-radius: 50%;\n",
              "    cursor: pointer;\n",
              "    display: none;\n",
              "    fill: var(--fill-color);\n",
              "    height: 32px;\n",
              "    padding: 0;\n",
              "    width: 32px;\n",
              "  }\n",
              "\n",
              "  .colab-df-quickchart:hover {\n",
              "    background-color: var(--hover-bg-color);\n",
              "    box-shadow: 0 1px 2px rgba(60, 64, 67, 0.3), 0 1px 3px 1px rgba(60, 64, 67, 0.15);\n",
              "    fill: var(--button-hover-fill-color);\n",
              "  }\n",
              "\n",
              "  .colab-df-quickchart-complete:disabled,\n",
              "  .colab-df-quickchart-complete:disabled:hover {\n",
              "    background-color: var(--disabled-bg-color);\n",
              "    fill: var(--disabled-fill-color);\n",
              "    box-shadow: none;\n",
              "  }\n",
              "\n",
              "  .colab-df-spinner {\n",
              "    border: 2px solid var(--fill-color);\n",
              "    border-color: transparent;\n",
              "    border-bottom-color: var(--fill-color);\n",
              "    animation:\n",
              "      spin 1s steps(1) infinite;\n",
              "  }\n",
              "\n",
              "  @keyframes spin {\n",
              "    0% {\n",
              "      border-color: transparent;\n",
              "      border-bottom-color: var(--fill-color);\n",
              "      border-left-color: var(--fill-color);\n",
              "    }\n",
              "    20% {\n",
              "      border-color: transparent;\n",
              "      border-left-color: var(--fill-color);\n",
              "      border-top-color: var(--fill-color);\n",
              "    }\n",
              "    30% {\n",
              "      border-color: transparent;\n",
              "      border-left-color: var(--fill-color);\n",
              "      border-top-color: var(--fill-color);\n",
              "      border-right-color: var(--fill-color);\n",
              "    }\n",
              "    40% {\n",
              "      border-color: transparent;\n",
              "      border-right-color: var(--fill-color);\n",
              "      border-top-color: var(--fill-color);\n",
              "    }\n",
              "    60% {\n",
              "      border-color: transparent;\n",
              "      border-right-color: var(--fill-color);\n",
              "    }\n",
              "    80% {\n",
              "      border-color: transparent;\n",
              "      border-right-color: var(--fill-color);\n",
              "      border-bottom-color: var(--fill-color);\n",
              "    }\n",
              "    90% {\n",
              "      border-color: transparent;\n",
              "      border-bottom-color: var(--fill-color);\n",
              "    }\n",
              "  }\n",
              "</style>\n",
              "\n",
              "  <script>\n",
              "    async function quickchart(key) {\n",
              "      const quickchartButtonEl =\n",
              "        document.querySelector('#' + key + ' button');\n",
              "      quickchartButtonEl.disabled = true;  // To prevent multiple clicks.\n",
              "      quickchartButtonEl.classList.add('colab-df-spinner');\n",
              "      try {\n",
              "        const charts = await google.colab.kernel.invokeFunction(\n",
              "            'suggestCharts', [key], {});\n",
              "      } catch (error) {\n",
              "        console.error('Error during call to suggestCharts:', error);\n",
              "      }\n",
              "      quickchartButtonEl.classList.remove('colab-df-spinner');\n",
              "      quickchartButtonEl.classList.add('colab-df-quickchart-complete');\n",
              "    }\n",
              "    (() => {\n",
              "      let quickchartButtonEl =\n",
              "        document.querySelector('#df-fce68d04-9f90-45a6-bac9-39a47bb719b9 button');\n",
              "      quickchartButtonEl.style.display =\n",
              "        google.colab.kernel.accessAllowed ? 'block' : 'none';\n",
              "    })();\n",
              "  </script>\n",
              "</div>\n",
              "\n",
              "  <div id=\"id_a9aa32c1-eb9a-4069-b1b8-afe28113a754\">\n",
              "    <style>\n",
              "      .colab-df-generate {\n",
              "        background-color: #E8F0FE;\n",
              "        border: none;\n",
              "        border-radius: 50%;\n",
              "        cursor: pointer;\n",
              "        display: none;\n",
              "        fill: #1967D2;\n",
              "        height: 32px;\n",
              "        padding: 0 0 0 0;\n",
              "        width: 32px;\n",
              "      }\n",
              "\n",
              "      .colab-df-generate:hover {\n",
              "        background-color: #E2EBFA;\n",
              "        box-shadow: 0px 1px 2px rgba(60, 64, 67, 0.3), 0px 1px 3px 1px rgba(60, 64, 67, 0.15);\n",
              "        fill: #174EA6;\n",
              "      }\n",
              "\n",
              "      [theme=dark] .colab-df-generate {\n",
              "        background-color: #3B4455;\n",
              "        fill: #D2E3FC;\n",
              "      }\n",
              "\n",
              "      [theme=dark] .colab-df-generate:hover {\n",
              "        background-color: #434B5C;\n",
              "        box-shadow: 0px 1px 3px 1px rgba(0, 0, 0, 0.15);\n",
              "        filter: drop-shadow(0px 1px 2px rgba(0, 0, 0, 0.3));\n",
              "        fill: #FFFFFF;\n",
              "      }\n",
              "    </style>\n",
              "    <button class=\"colab-df-generate\" onclick=\"generateWithVariable('table1')\"\n",
              "            title=\"Generate code using this dataframe.\"\n",
              "            style=\"display:none;\">\n",
              "\n",
              "  <svg xmlns=\"http://www.w3.org/2000/svg\" height=\"24px\"viewBox=\"0 0 24 24\"\n",
              "       width=\"24px\">\n",
              "    <path d=\"M7,19H8.4L18.45,9,17,7.55,7,17.6ZM5,21V16.75L18.45,3.32a2,2,0,0,1,2.83,0l1.4,1.43a1.91,1.91,0,0,1,.58,1.4,1.91,1.91,0,0,1-.58,1.4L9.25,21ZM18.45,9,17,7.55Zm-12,3A5.31,5.31,0,0,0,4.9,8.1,5.31,5.31,0,0,0,1,6.5,5.31,5.31,0,0,0,4.9,4.9,5.31,5.31,0,0,0,6.5,1,5.31,5.31,0,0,0,8.1,4.9,5.31,5.31,0,0,0,12,6.5,5.46,5.46,0,0,0,6.5,12Z\"/>\n",
              "  </svg>\n",
              "    </button>\n",
              "    <script>\n",
              "      (() => {\n",
              "      const buttonEl =\n",
              "        document.querySelector('#id_a9aa32c1-eb9a-4069-b1b8-afe28113a754 button.colab-df-generate');\n",
              "      buttonEl.style.display =\n",
              "        google.colab.kernel.accessAllowed ? 'block' : 'none';\n",
              "\n",
              "      buttonEl.onclick = () => {\n",
              "        google.colab.notebook.generateWithVariable('table1');\n",
              "      }\n",
              "      })();\n",
              "    </script>\n",
              "  </div>\n",
              "\n",
              "    </div>\n",
              "  </div>\n"
            ],
            "application/vnd.google.colaboratory.intrinsic+json": {
              "type": "dataframe",
              "variable_name": "table1",
              "summary": "{\n  \"name\": \"table1\",\n  \"rows\": 8,\n  \"fields\": [\n    {\n      \"column\": \"a\",\n      \"properties\": {\n        \"dtype\": \"number\",\n        \"std\": 2.160246899469287,\n        \"min\": 1.0,\n        \"max\": 7.0,\n        \"num_unique_values\": 7,\n        \"samples\": [\n          1.0,\n          2.0,\n          6.0\n        ],\n        \"semantic_type\": \"\",\n        \"description\": \"\"\n      }\n    },\n    {\n      \"column\": \"b\",\n      \"properties\": {\n        \"dtype\": \"number\",\n        \"std\": 4.633213427705081,\n        \"min\": 2.0,\n        \"max\": 14.0,\n        \"num_unique_values\": 6,\n        \"samples\": [\n          2.0,\n          4.0,\n          14.0\n        ],\n        \"semantic_type\": \"\",\n        \"description\": \"\"\n      }\n    },\n    {\n      \"column\": \"c\",\n      \"properties\": {\n        \"dtype\": \"number\",\n        \"std\": 4.301162633521313,\n        \"min\": 3.0,\n        \"max\": 15.0,\n        \"num_unique_values\": 5,\n        \"samples\": [\n          8.0,\n          15.0,\n          9.0\n        ],\n        \"semantic_type\": \"\",\n        \"description\": \"\"\n      }\n    },\n    {\n      \"column\": \"d\",\n      \"properties\": {\n        \"dtype\": \"number\",\n        \"std\": 20.95391769256209,\n        \"min\": 4.0,\n        \"max\": 60.0,\n        \"num_unique_values\": 6,\n        \"samples\": [\n          4.0,\n          16.0,\n          60.0\n        ],\n        \"semantic_type\": \"\",\n        \"description\": \"\"\n      }\n    }\n  ]\n}"
            }
          },
          "metadata": {},
          "execution_count": 24
        }
      ]
    },
    {
      "cell_type": "code",
      "source": [
        "# Creating a DataFrame from a list of dictionaries and accompaying row indices\n",
        "\n",
        "table2 = pd.DataFrame(data[:3], index = ['1st row', '2nd row', '3rd row'])\n",
        "# Dict keys become column lables\n",
        "print(table2)"
      ],
      "metadata": {
        "id": "DQkONKqfbejV",
        "colab": {
          "base_uri": "https://localhost:8080/"
        },
        "outputId": "e66c4916-d70c-4d90-be1c-e27e430b449f"
      },
      "execution_count": null,
      "outputs": [
        {
          "output_type": "stream",
          "name": "stdout",
          "text": [
            "         a  b  c     d\n",
            "1st row  1  2  3   4.0\n",
            "2nd row  2  4  8  16.0\n",
            "3rd row  3  6  9   NaN\n"
          ]
        }
      ]
    },
    {
      "cell_type": "code",
      "source": [
        "# DataFrame columns can be deleted using the pop() function\n",
        "\n",
        "table2.pop('c')\n",
        "print(table2)"
      ],
      "metadata": {
        "id": "p_eRhEt4bs_w",
        "colab": {
          "base_uri": "https://localhost:8080/"
        },
        "outputId": "04c29eae-986a-4fa7-9545-d5c7be5ed650"
      },
      "execution_count": null,
      "outputs": [
        {
          "output_type": "stream",
          "name": "stdout",
          "text": [
            "         a  b     d\n",
            "1st row  1  2   4.0\n",
            "2nd row  2  4  16.0\n",
            "3rd row  3  6   NaN\n"
          ]
        }
      ]
    },
    {
      "cell_type": "code",
      "source": [
        "# DataFrame rows can be selected by passing the row lable to the loc() function\n",
        "\n",
        "print(table2.loc['2nd row'])"
      ],
      "metadata": {
        "id": "14EeO8N9bvwO",
        "colab": {
          "base_uri": "https://localhost:8080/"
        },
        "outputId": "dd1c026e-f8c1-4544-f181-a162ce5d0f08"
      },
      "execution_count": null,
      "outputs": [
        {
          "output_type": "stream",
          "name": "stdout",
          "text": [
            "a     2.0\n",
            "b     4.0\n",
            "d    16.0\n",
            "Name: 2nd row, dtype: float64\n"
          ]
        }
      ]
    },
    {
      "cell_type": "code",
      "source": [
        "# Row selection can also be done using the row index\n",
        "\n",
        "print(table2.iloc[2])"
      ],
      "metadata": {
        "id": "3UZumcuobygT",
        "colab": {
          "base_uri": "https://localhost:8080/"
        },
        "outputId": "7b8f4a3e-4eae-47f2-bdfa-92113ab549f4"
      },
      "execution_count": null,
      "outputs": [
        {
          "output_type": "stream",
          "name": "stdout",
          "text": [
            "a    3.0\n",
            "b    6.0\n",
            "d    NaN\n",
            "Name: 3rd row, dtype: float64\n"
          ]
        }
      ]
    },
    {
      "cell_type": "code",
      "source": [
        "# Merging two dataframes using a column\n",
        "\n",
        "data1 = {\n",
        "    'ID': ['A1', 'A2', 'A3', 'A4'],\n",
        "    'Category1': ['Cat', 'Dog', 'Fish', 'Bird'],\n",
        "    'Color': ['Red', 'Blue', 'Green', 'Yellow']\n",
        "}\n",
        "df1 = pd.DataFrame(data1)\n",
        "\n",
        "data2 = {\n",
        "    'ID': ['A3', 'A4', 'A5', 'A6'],\n",
        "    'Category2': ['Mammal', 'Reptile', 'Amphibian', 'Insect'],\n",
        "    'Habitat': ['Land', 'Water', 'Swamp', 'Forest']\n",
        "}\n",
        "df2 = pd.DataFrame(data2)\n",
        "\n",
        "# Merging the two DataFrames on the 'ID' column\n",
        "merged_df = pd.merge(df1, df2, on='ID', how='outer')\n",
        "\n",
        "print(merged_df)\n"
      ],
      "metadata": {
        "colab": {
          "base_uri": "https://localhost:8080/"
        },
        "id": "rJ0-8yZQuqhh",
        "outputId": "45dd904c-def1-4f8e-ab87-fb9dfadf5e4b"
      },
      "execution_count": null,
      "outputs": [
        {
          "output_type": "stream",
          "name": "stdout",
          "text": [
            "   ID Category1   Color  Category2 Habitat\n",
            "0  A1       Cat     Red        NaN     NaN\n",
            "1  A2       Dog    Blue        NaN     NaN\n",
            "2  A3      Fish   Green     Mammal    Land\n",
            "3  A4      Bird  Yellow    Reptile   Water\n",
            "4  A5       NaN     NaN  Amphibian   Swamp\n",
            "5  A6       NaN     NaN     Insect  Forest\n"
          ]
        }
      ]
    },
    {
      "cell_type": "code",
      "source": [
        "# Identifying missing values in a dataset\n",
        "\n",
        "data = {\n",
        "    'Column1': [1, 2, np.nan, 4, 5, np.nan],\n",
        "    'Column2': [np.nan, 1.5, 2.5, np.nan, 4.5, 5.5],\n",
        "    'Column3': [7, np.nan, 9, 10, np.nan, 12],\n",
        "    'Column4': [13, 14, np.nan, 16, np.nan, 18]\n",
        "}\n",
        "df = pd.DataFrame(data)\n",
        "\n",
        "print(\"Original DataFrame with missing values:\")\n",
        "print(df)\n",
        "\n",
        "# Locating missing values (NaN)\n",
        "missing_values = df.isna()\n",
        "\n",
        "print(\"\\nLocations of missing values (True indicates NaN):\")\n",
        "print(missing_values)\n",
        "\n",
        "# Replacing missing values with 0\n",
        "df_filled = df.fillna(0)\n",
        "\n",
        "print(\"\\nDataFrame after replacing missing values with 0:\")\n",
        "print(df_filled)\n",
        "\n",
        "\n",
        "# Explore dropna"
      ],
      "metadata": {
        "id": "9QEZls7ab2hC",
        "colab": {
          "base_uri": "https://localhost:8080/"
        },
        "outputId": "189207da-4357-4334-c927-6e458cb4e10a"
      },
      "execution_count": null,
      "outputs": [
        {
          "output_type": "stream",
          "name": "stdout",
          "text": [
            "Original DataFrame with missing values:\n",
            "   Column1  Column2  Column3  Column4\n",
            "0      1.0      NaN      7.0     13.0\n",
            "1      2.0      1.5      NaN     14.0\n",
            "2      NaN      2.5      9.0      NaN\n",
            "3      4.0      NaN     10.0     16.0\n",
            "4      5.0      4.5      NaN      NaN\n",
            "5      NaN      5.5     12.0     18.0\n",
            "\n",
            "Locations of missing values (True indicates NaN):\n",
            "   Column1  Column2  Column3  Column4\n",
            "0    False     True    False    False\n",
            "1    False    False     True    False\n",
            "2     True    False    False     True\n",
            "3    False     True    False    False\n",
            "4    False    False     True     True\n",
            "5     True    False    False    False\n",
            "\n",
            "DataFrame after replacing missing values with 0:\n",
            "   Column1  Column2  Column3  Column4\n",
            "0      1.0      0.0      7.0     13.0\n",
            "1      2.0      1.5      0.0     14.0\n",
            "2      0.0      2.5      9.0      0.0\n",
            "3      4.0      0.0     10.0     16.0\n",
            "4      5.0      4.5      0.0      0.0\n",
            "5      0.0      5.5     12.0     18.0\n"
          ]
        }
      ]
    },
    {
      "cell_type": "code",
      "source": [
        "# Dropping columns from the dataframe\n",
        "\n",
        "data = {\n",
        "    'Column1': [1, 2, np.nan, 4, 5, np.nan],\n",
        "    'Column2': [np.nan, 1.5, 2.5, np.nan, 4.5, 5.5],\n",
        "    'Column3': [7, np.nan, 9, 10, np.nan, 12],\n",
        "    'Column4': [13, 14, np.nan, 16, np.nan, 18]\n",
        "}\n",
        "df = pd.DataFrame(data)\n",
        "\n",
        "print(\"Original DataFrame:\")\n",
        "print(df)\n",
        "\n",
        "df_dropped = df.drop(columns=['Column2', 'Column4'])\n",
        "\n",
        "print(\"\\nDataFrame after dropping 'Column2' and 'Column4':\")\n",
        "print(df_dropped)\n"
      ],
      "metadata": {
        "id": "rkx1Ufm4b7tv",
        "colab": {
          "base_uri": "https://localhost:8080/"
        },
        "outputId": "565e5e41-83ed-4ee4-e6b2-d9662240cd2a"
      },
      "execution_count": null,
      "outputs": [
        {
          "output_type": "stream",
          "name": "stdout",
          "text": [
            "Original DataFrame:\n",
            "   Column1  Column2  Column3  Column4\n",
            "0      1.0      NaN      7.0     13.0\n",
            "1      2.0      1.5      NaN     14.0\n",
            "2      NaN      2.5      9.0      NaN\n",
            "3      4.0      NaN     10.0     16.0\n",
            "4      5.0      4.5      NaN      NaN\n",
            "5      NaN      5.5     12.0     18.0\n",
            "\n",
            "DataFrame after dropping 'Column2' and 'Column4':\n",
            "   Column1  Column3\n",
            "0      1.0      7.0\n",
            "1      2.0      NaN\n",
            "2      NaN      9.0\n",
            "3      4.0     10.0\n",
            "4      5.0      NaN\n",
            "5      NaN     12.0\n"
          ]
        }
      ]
    },
    {
      "cell_type": "code",
      "source": [
        "# Read a csv file using pd.read_csv('file_path')"
      ],
      "metadata": {
        "id": "W-Trqi0Hb9hQ"
      },
      "execution_count": null,
      "outputs": []
    },
    {
      "cell_type": "markdown",
      "source": [
        "# ***Visualization in Python (Matplotlib)***"
      ],
      "metadata": {
        "id": "qgPq74glSbmB"
      }
    },
    {
      "cell_type": "markdown",
      "source": [
        "Visualizing data in Python is a crucial aspect of data analysis, enabling us to understand patterns, trends, and relationships within our data. By using visualizations, we can gain insights that are often difficult to discern from raw data alone."
      ],
      "metadata": {
        "id": "AJGfAJE7SfJ3"
      }
    },
    {
      "cell_type": "code",
      "source": [
        "# Import necessary libraries\n",
        "import numpy as np\n",
        "\n",
        "import matplotlib.pyplot as plt"
      ],
      "metadata": {
        "id": "lzK8T7YtSN5u"
      },
      "execution_count": null,
      "outputs": []
    },
    {
      "cell_type": "markdown",
      "source": [
        "### ***Line Graph***"
      ],
      "metadata": {
        "id": "l0A5akzaXBow"
      }
    },
    {
      "cell_type": "code",
      "source": [
        "# data x & y\n",
        "x = [10,11,12,13,14]\n",
        "y = [10,15,27,45,50]\n",
        "\n",
        "# Create a line plot with red dashed line\n",
        "plt.plot(x,y,'r--',label='datapoints')\n",
        "\n",
        "# Set labels for axes\n",
        "plt.xlabel('x-axis')\n",
        "plt.ylabel('y-axis')\n",
        "\n",
        "# Set title of the plot\n",
        "plt.title(\"Line graph\")\n",
        "\n",
        "# Enable grid\n",
        "plt.grid(True)\n",
        "\n",
        "# Adjust layout for optimal spacing\n",
        "plt.tight_layout()\n",
        "\n",
        "# Display legend\n",
        "plt.legend()\n",
        "\n",
        "# Show the plot\n",
        "plt.show()"
      ],
      "metadata": {
        "colab": {
          "base_uri": "https://localhost:8080/"
        },
        "id": "5602x222Sjwi",
        "outputId": "0e1959a7-0d8f-4161-ab32-9cab5d2432d6"
      },
      "execution_count": null,
      "outputs": [
        {
          "output_type": "display_data",
          "data": {
            "text/plain": [
              "<Figure size 640x480 with 1 Axes>"
            ],
            "image/png": "[encoded data removed]"
          },
          "metadata": {}
        }
      ]
    },
    {
      "cell_type": "markdown",
      "source": [
        "### ***Bar Graph***"
      ],
      "metadata": {
        "id": "Vs-p4H_hW-cn"
      }
    },
    {
      "cell_type": "code",
      "source": [
        "# Define age and corresponding developer salary data\n",
        "ages = np.array([25,26,27,28,29,30,31,32,33,34,35])\n",
        "dev = np.array([38496,42000,46752,49320,53200,56000,62316,64928,67317,68748,73752])\n",
        "\n",
        "# Generate a bar chart with red bars representing developer salaries\n",
        "plt.bar(ages,dev,color='r',label='developer')\n",
        "\n",
        "# Display legend\n",
        "plt.legend()\n",
        "\n",
        "# Show the plot\n",
        "plt.show()"
      ],
      "metadata": {
        "colab": {
          "base_uri": "https://localhost:8080/"
        },
        "id": "sqixpl3USoEA",
        "outputId": "ecdbbee9-abee-489b-f321-f4585b021461"
      },
      "execution_count": null,
      "outputs": [
        {
          "output_type": "display_data",
          "data": {
            "text/plain": [
              "<Figure size 640x480 with 1 Axes>"
            ],
            "image/png": "[encoded data removed]"
          },
          "metadata": {}
        }
      ]
    },
    {
      "cell_type": "markdown",
      "source": [
        "### ***Pie Chart***"
      ],
      "metadata": {
        "id": "y0UYl2tzW6gM"
      }
    },
    {
      "cell_type": "code",
      "source": [
        "# Data for pie chart slices, labels, and colors\n",
        "slices = [60,30,20,50,90]\n",
        "label = ['A','B','C','D','E']\n",
        "color = ['blue','red','yellow','green','grey']\n",
        "\n",
        "# Create pie chart with specified labels, colors, start angle, and autopct format\n",
        "plt.pie(slices,labels=label,colors=color,startangle=90,autopct='%1.1f%%',radius=1.3)\n",
        "\n",
        "# Adjust layout for optimal spacing\n",
        "plt.tight_layout()\n",
        "\n",
        "# Set title of the chart\n",
        "plt.title('Pie Chart')\n",
        "\n",
        "# Display the chart\n",
        "plt.show()"
      ],
      "metadata": {
        "colab": {
          "base_uri": "https://localhost:8080/"
        },
        "id": "WB6DNWOBSpvD",
        "outputId": "d363ec70-391d-4402-ee0d-eeb1a82fb29e"
      },
      "execution_count": null,
      "outputs": [
        {
          "output_type": "display_data",
          "data": {
            "text/plain": [
              "<Figure size 640x480 with 1 Axes>"
            ],
            "image/png": "[encoded data removed]"
          },
          "metadata": {}
        }
      ]
    },
    {
      "cell_type": "markdown",
      "source": [
        "### ***Scatter Plot***"
      ],
      "metadata": {
        "id": "4XbMtDZxW3HK"
      }
    },
    {
      "cell_type": "code",
      "source": [
        "# Set plot style to Seaborn\n",
        "# plt.style.use('seaborn')\n",
        "\n",
        "# Define data for scatter plot\n",
        "x = [5,7,8,5,6,7,9,2,3,4,4,4,2,6,3,6,8,6,4,1]\n",
        "y = [7,4,3,9,1,3,2,5,2,4,8,7,1,6,4,9,7,7,5,1]\n",
        "colors = [7,5,9,7,5,7,2,5,3,7,1,2,8,1,9,2,5,6,7,5]\n",
        "sizes = [209,486,381,255,191,315,185,228,174,538,239,394,399,153,273,293,436,501,397,539]\n",
        "\n",
        "# Create scatter plot with specified sizes, colors, colormap, marker style, and edge properties\n",
        "plt.scatter(x,y,s=sizes,c=colors,cmap='Greens',marker='o',edgecolor='black',linewidth=1.5,alpha=0.95)\n",
        "\n",
        "# Add color bar and set label\n",
        "cbar = plt.colorbar()\n",
        "cbar.set_label('Satisfaction')"
      ],
      "metadata": {
        "colab": {
          "base_uri": "https://localhost:8080/"
        },
        "id": "mtgtxz-lSrXr",
        "outputId": "fe7819a3-658d-4ba4-ff77-a687fce64575"
      },
      "execution_count": null,
      "outputs": [
        {
          "output_type": "display_data",
          "data": {
            "text/plain": [
              "<Figure size 640x480 with 2 Axes>"
            ],
            "image/png": "[encoded data removed]"
          },
          "metadata": {}
        }
      ]
    },
    {
      "cell_type": "markdown",
      "source": [
        "### ***Histogram***"
      ],
      "metadata": {
        "id": "viGT5mEzWvDx"
      }
    },
    {
      "cell_type": "code",
      "source": [
        "# Generate sample data\n",
        "data = np.random.randn(1000)\n",
        "\n",
        "# Create histogram\n",
        "plt.hist(data, bins=30, edgecolor='black')  # Adjust 'bins' for desired number of bins\n",
        "\n",
        "# Add labels and title\n",
        "plt.xlabel('Value')\n",
        "plt.ylabel('Frequency')\n",
        "plt.title('Histogram of Data')\n",
        "\n",
        "# Display the plot\n",
        "plt.show()"
      ],
      "metadata": {
        "colab": {
          "base_uri": "https://localhost:8080/"
        },
        "id": "bb3UGcOjSsz_",
        "outputId": "15d2b8e1-ddc3-4ec0-86b1-1a720c3b7b38"
      },
      "execution_count": null,
      "outputs": [
        {
          "output_type": "display_data",
          "data": {
            "text/plain": [
              "<Figure size 640x480 with 1 Axes>"
            ],
            "image/png": "[encoded data removed]"
          },
          "metadata": {}
        }
      ]
    },
    {
      "cell_type": "markdown",
      "source": [
        "### ***Box Plots***"
      ],
      "metadata": {
        "id": "1D9Y8z5cVlZc"
      }
    },
    {
      "cell_type": "code",
      "source": [
        "# Generate sample data\n",
        "data = [np.random.normal(0, 1, 100),\n",
        "        np.random.normal(2, 1, 100),\n",
        "        np.random.normal(-3, 2, 100)]\n",
        "\n",
        "# Create boxplot\n",
        "plt.boxplot(data, labels=['Group 1', 'Group 2', 'Group 3'])\n",
        "\n",
        "# Add labels and title\n",
        "plt.xlabel('Groups')\n",
        "plt.ylabel('Values')\n",
        "plt.title('Boxplot of Data')\n",
        "\n",
        "# Display the plot\n",
        "plt.show()"
      ],
      "metadata": {
        "colab": {
          "base_uri": "https://localhost:8080/"
        },
        "id": "guJAxR3cS0Kh",
        "outputId": "ff88f260-a843-4b9f-e500-ea94c9e42213"
      },
      "execution_count": null,
      "outputs": [
        {
          "output_type": "display_data",
          "data": {
            "text/plain": [
              "<Figure size 640x480 with 1 Axes>"
            ],
            "image/png": "[encoded data removed]"
          },
          "metadata": {}
        }
      ]
    },
    {
      "cell_type": "markdown",
      "source": [
        "### ***HeatMap***"
      ],
      "metadata": {
        "id": "7Mxqt3InTIMP"
      }
    },
    {
      "cell_type": "code",
      "source": [
        "# Generate sample data\n",
        "data = np.random.rand(10, 10)\n",
        "\n",
        "# Create heatmap\n",
        "plt.imshow(data, cmap='viridis', interpolation='nearest')  # Adjust 'cmap' for desired color scheme\n",
        "\n",
        "# Add colorbar\n",
        "plt.colorbar()\n",
        "\n",
        "# Set title\n",
        "plt.title('Heatmap of Data')\n",
        "\n",
        "# Display the plot\n",
        "plt.show()"
      ],
      "metadata": {
        "colab": {
          "base_uri": "https://localhost:8080/"
        },
        "id": "cY5V9cbLS1k3",
        "outputId": "03ad944e-d782-46ff-99f2-831dc82b946a"
      },
      "execution_count": null,
      "outputs": [
        {
          "output_type": "display_data",
          "data": {
            "text/plain": [
              "<Figure size 640x480 with 2 Axes>"
            ],
            "image/png": "[encoded data removed]"
          },
          "metadata": {}
        }
      ]
    },
    {
      "cell_type": "markdown",
      "source": [
        "# ***Working with a dataset***"
      ],
      "metadata": {
        "id": "8t8fayD6rWQT"
      }
    },
    {
      "cell_type": "code",
      "source": [
        "url = \"https://archive.ics.uci.edu/ml/machine-learning-databases/iris/iris.data\"\n",
        "\n",
        "column_names = [\"sepal_length\", \"sepal_width\", \"petal_length\", \"petal_width\", \"species\"]\n",
        "\n",
        "iris_df = pd.read_csv(url, header=None, names=column_names)\n",
        "\n",
        "selected_features = iris_df[[\"sepal_length\", \"petal_length\"]]\n",
        "\n",
        "correlation_matrix = selected_features.corr()\n",
        "\n",
        "plt.imshow(correlation_matrix, cmap='viridis', vmin=-1, vmax=1)\n",
        "\n",
        "plt.colorbar()\n",
        "\n",
        "plt.xticks(ticks=np.arange(len(selected_features.columns)), labels=selected_features.columns)\n",
        "plt.yticks(ticks=np.arange(len(selected_features.columns)), labels=selected_features.columns)\n",
        "\n",
        "# Add the correlation values on the heatmap (optional)\n",
        "for i in range(len(selected_features.columns)):\n",
        "    for j in range(len(selected_features.columns)):\n",
        "        plt.text(j, i, f\"{correlation_matrix.iloc[i, j]:.2f}\", ha='center', va='center', color='black')\n",
        "\n",
        "plt.title(\"Correlation Heatmap between Sepal Length and Petal Length\")\n",
        "\n",
        "plt.show()\n"
      ],
      "metadata": {
        "colab": {
          "base_uri": "https://localhost:8080/"
        },
        "id": "b8N0SzhErhG_",
        "outputId": "f34f70ff-4faf-4812-da0a-e348b6ecd642"
      },
      "execution_count": null,
      "outputs": [
        {
          "output_type": "display_data",
          "data": {
            "text/plain": [
              "<Figure size 640x480 with 2 Axes>"
            ],
            "image/png": "[encoded data removed]"
          },
          "metadata": {}
        }
      ]
    }
  ]
}