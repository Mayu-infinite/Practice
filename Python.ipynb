{
  "nbformat": 4,
  "nbformat_minor": 0,
  "metadata": {
    "colab": {
      "provenance": [],
      "authorship_tag": "ABX9TyMOHunSMf4bJWC/4x4GH/Yk",
      "include_colab_link": true
    },
    "kernelspec": {
      "name": "python3",
      "display_name": "Python 3"
    },
    "language_info": {
      "name": "python"
    }
  },
  "cells": [
    {
      "cell_type": "markdown",
      "metadata": {
        "id": "view-in-github",
        "colab_type": "text"
      },
      "source": [
        "<a href=\"https://colab.research.google.com/github/Mayu-infinite/Practice/blob/main/Python.ipynb\" target=\"_parent\"><img src=\"https://colab.research.google.com/assets/colab-badge.svg\" alt=\"Open In Colab\"/></a>"
      ]
    },
    {
      "cell_type": "markdown",
      "source": [
        "# Python Revision in lab point of view\n",
        "## A] Working with strings and lists\n",
        "### 1. Strings manipulation and Analysis\n"
      ],
      "metadata": {
        "id": "UXW6gEbbd1YW"
      }
    },
    {
      "cell_type": "code",
      "execution_count": null,
      "metadata": {
        "colab": {
          "base_uri": "https://localhost:8080/"
        },
        "id": "2W8WSRcFdFLC",
        "outputId": "ff529285-dadf-4b6e-b20f-5aa9098fc2a6"
      },
      "outputs": [
        {
          "output_type": "stream",
          "name": "stdout",
          "text": [
            "Number of vowels:  28\n"
          ]
        }
      ],
      "source": [
        "# Given a string count the number of vowels in the string and print the result.\n",
        "# Split the string into individual words and then sort the words alphabeticall. Print the sorted list.\n",
        "paragraph = \"Data science is a blend of various tools, algorithms, and machine learning principles.\"\n",
        "vowels = \"AEIOUaeiou\"\n",
        "number = sum(1 for char in paragraph if char in vowels)\n",
        "print(\"Number of vowels: \", number)"
      ]
    },
    {
      "cell_type": "code",
      "source": [
        "words = paragraph.split()\n",
        "sorted_words = sorted(words)\n",
        "print(\"Sorted words: \", sorted_words)"
      ],
      "metadata": {
        "colab": {
          "base_uri": "https://localhost:8080/"
        },
        "id": "i7Udf_UpgFYc",
        "outputId": "3d91a904-dbf4-4d81-90b9-1fb449938492"
      },
      "execution_count": null,
      "outputs": [
        {
          "output_type": "stream",
          "name": "stdout",
          "text": [
            "Sorted words:  ['Data', 'a', 'algorithms,', 'and', 'blend', 'is', 'learning', 'machine', 'of', 'principles.', 'science', 'tools,', 'various']\n"
          ]
        }
      ]
    },
    {
      "cell_type": "code",
      "source": [
        "'''Create a list temperatures = [98, 101, 99, 103, 97, 100, 102]. Write a program to remove any temperature that is below 100 and then print the modified list.\n",
        "Find the maximum and minimum temperature in the list and print them.\n",
        "'''\n",
        "temperatures = [98, 101, 99, 103, 97, 100, 102]\n",
        "ft = [temp for temp in temperatures if temp >=100]\n",
        "print(\"Temperatures: \",ft)"
      ],
      "metadata": {
        "colab": {
          "base_uri": "https://localhost:8080/"
        },
        "id": "5OQ9ENBizkTn",
        "outputId": "f0c1ecb2-a4f3-447e-9e63-c22752cfcff3"
      },
      "execution_count": null,
      "outputs": [
        {
          "output_type": "stream",
          "name": "stdout",
          "text": [
            "Temperatures:  [101, 103, 100, 102]\n"
          ]
        }
      ]
    },
    {
      "cell_type": "code",
      "source": [
        "max_ft=max(temperatures)\n",
        "min_ft=min(temperatures)\n",
        "print(max_ft)\n",
        "print(min_ft)"
      ],
      "metadata": {
        "colab": {
          "base_uri": "https://localhost:8080/"
        },
        "id": "xpX1gGTS1id3",
        "outputId": "8d8ad07b-d5ec-4bca-acaf-d7396edff412"
      },
      "execution_count": null,
      "outputs": [
        {
          "output_type": "stream",
          "name": "stdout",
          "text": [
            "103\n",
            "97\n"
          ]
        }
      ]
    },
    {
      "cell_type": "code",
      "source": [
        "# Advanced string operations\n",
        "'''Given a string text = \"Python programming is fun!\", find the frequency of each character in the string and store it in a dictionary. Print the dictionary.'''\n",
        "# Sample text\n",
        "text = \"Python programming is fun!\"\n",
        "\n",
        "# Initialize an empty dictionary to store letter frequencies\n",
        "letter_count = {}\n",
        "\n",
        "# Iterate through each character in the text\n",
        "for char in text:\n",
        "    # Check if the character is a letter\n",
        "    if char.isalpha():\n",
        "        # Convert character to lowercase to ensure case insensitivity\n",
        "        char = char.lower()\n",
        "        # Update the dictionary with the letter count\n",
        "        if char in letter_count:\n",
        "            letter_count[char] += 1\n",
        "        else:\n",
        "            letter_count[char] = 1\n",
        "\n",
        "# Print the dictionary with letter frequencies\n",
        "print(\"Letter frequencies:\", letter_count)\n"
      ],
      "metadata": {
        "colab": {
          "base_uri": "https://localhost:8080/"
        },
        "id": "05g0roDy2B8d",
        "outputId": "7725ed5b-6517-48a0-b580-081dc1ff9e24"
      },
      "execution_count": null,
      "outputs": [
        {
          "output_type": "stream",
          "name": "stdout",
          "text": [
            "Letter frequencies: {'p': 2, 'y': 1, 't': 1, 'h': 1, 'o': 2, 'n': 3, 'r': 2, 'g': 2, 'a': 1, 'm': 2, 'i': 2, 's': 1, 'f': 1, 'u': 1}\n"
          ]
        }
      ]
    },
    {
      "cell_type": "markdown",
      "source": [
        "### 2. Control flow with loops and conditionals"
      ],
      "metadata": {
        "id": "l3AUXUE35T6v"
      }
    },
    {
      "cell_type": "code",
      "source": [
        "# Ask the user to enter a year\n",
        "year = int(input(\"Enter a year: \"))\n",
        "\n",
        "# Determine if the year is a leap year\n",
        "if (year % 4 == 0 and year % 100 != 0) or (year % 400 == 0):\n",
        "    is_leap_year = True\n",
        "else:\n",
        "    is_leap_year = False\n",
        "\n",
        "# Determine if the year is a century year\n",
        "if year % 100 == 0:\n",
        "    is_century_year = True\n",
        "else:\n",
        "    is_century_year = False\n",
        "\n",
        "# Print appropriate messages\n",
        "if is_leap_year:\n",
        "    print(f\"{year} is a leap year.\")\n",
        "else:\n",
        "    print(f\"{year} is not a leap year.\")\n",
        "\n",
        "if is_century_year:\n",
        "    print(f\"{year} is a century year.\")\n",
        "else:\n",
        "    print(f\"{year} is not a century year.\")\n"
      ],
      "metadata": {
        "colab": {
          "base_uri": "https://localhost:8080/"
        },
        "id": "fm7op-4y4X2E",
        "outputId": "4f14da44-f114-409f-d32b-d0644b0055db"
      },
      "execution_count": null,
      "outputs": [
        {
          "output_type": "stream",
          "name": "stdout",
          "text": [
            "Enter a year: 3700\n",
            "3700 is not a leap year.\n",
            "3700 is a century year.\n"
          ]
        }
      ]
    },
    {
      "cell_type": "code",
      "source": [
        "year = int(input(\"Enter year\"))\n",
        "# for determining whether the year is leap\n",
        "if (year % 4 == 0 and year % 100 == 0) or (year % 400 == 0):\n",
        "  is_leap_year=True\n",
        "else:\n",
        "  is_leap_year=False\n",
        "# for determining whether the year a century year\n",
        "if(year % 100 == 0):\n",
        "  is_century_year= True\n",
        "else:\n",
        "  is_century_year= False\n",
        "\n",
        "if is_leap_year:\n",
        "  print(f\"{year} is a leap year\")\n",
        "else:\n",
        "    print(f\"{year} is not a leap year\")\n",
        "\n",
        "if is_century_year:\n",
        "  print(f\"{year} is a century year\")\n",
        "else:\n",
        "  print(f\"{year} is not a century year\")\n",
        "\n",
        "\n"
      ],
      "metadata": {
        "colab": {
          "base_uri": "https://localhost:8080/"
        },
        "id": "2tMA6o0g6gK_",
        "outputId": "13ee0522-6f8b-4478-fe5d-6ce8e7a26e95"
      },
      "execution_count": null,
      "outputs": [
        {
          "output_type": "stream",
          "name": "stdout",
          "text": [
            "Enter year5000\n",
            "5000 is a leap year\n",
            "5000 is a century year\n"
          ]
        }
      ]
    },
    {
      "cell_type": "code",
      "source": [
        "'''For Loop with Conditional Logic\n",
        "Given a list prices = [120, 340, 210, 130, 500], write a loop that prints only those prices that are above 200. Also, calculate the sum of these prices and print it.'''\n",
        "# Given list of prices\n",
        "prices = [120, 340, 210, 130, 500]\n",
        "\n",
        "# Initialize a variable to store the sum of prices above 200\n",
        "sum_above_200 = 0\n",
        "\n",
        "# Iterate through each price in the list\n",
        "for price in prices:\n",
        "    # Check if the price is above 200\n",
        "    if price > 200:\n",
        "        # Print the price\n",
        "        print(price)\n",
        "        # Add the price to the sum\n",
        "        sum_above_200 += price\n",
        "\n",
        "# Print the total sum of prices above 200\n",
        "print(\"Sum of prices above 200:\", sum_above_200)\n"
      ],
      "metadata": {
        "colab": {
          "base_uri": "https://localhost:8080/"
        },
        "id": "GSk-KSfR-MVS",
        "outputId": "6b4feb61-6b4f-4671-e9c5-5afc5df34b94"
      },
      "execution_count": null,
      "outputs": [
        {
          "output_type": "stream",
          "name": "stdout",
          "text": [
            "340\n",
            "210\n",
            "500\n",
            "Sum of prices above 200: 1050\n"
          ]
        }
      ]
    },
    {
      "cell_type": "code",
      "source": [
        "# While loop with Accumulation\n",
        "#number = int(input(\"Enter a negative number \"))\n",
        "#if number !=\n",
        "# Initialize the sum of positive numbers\n",
        "total_sum = 0\n",
        "\n",
        "# Start a while loop to continuously ask for user input\n",
        "while True:\n",
        "    # Ask the user for a number\n",
        "    number = float(input(\"Enter a number (negative to stop): \"))\n",
        "\n",
        "    # Check if the number is negative\n",
        "    if number < 0:\n",
        "        break  # Exit the loop if the number is negative\n",
        "\n",
        "    # Add the number to the total sum if it is positive\n",
        "    if number > 0:\n",
        "        total_sum += number\n",
        "\n",
        "# Print the total sum of positive numbers\n",
        "print(\"Sum of positive numbers:\", total_sum)\n"
      ],
      "metadata": {
        "colab": {
          "base_uri": "https://localhost:8080/"
        },
        "id": "htFzVz9R_c0n",
        "outputId": "c7efa90d-32cc-4fcf-b92c-448d1b701586"
      },
      "execution_count": null,
      "outputs": [
        {
          "output_type": "stream",
          "name": "stdout",
          "text": [
            "Enter a number (negative to stop): -0\n",
            "Enter a number (negative to stop): -10\n",
            "Sum of positive numbers: 0\n"
          ]
        }
      ]
    },
    {
      "cell_type": "markdown",
      "source": [
        "### 3. Functions and their applications\n"
      ],
      "metadata": {
        "id": "GoBznNfsCFrJ"
      }
    },
    {
      "cell_type": "code",
      "source": [
        "# 7. Function definition and applications\n",
        "#numbers = int(input(list))\n",
        "#if (for i in numbers if numbers[i] % 2 == 1 in numbers):\n",
        " # print(\"numb\")\n",
        " # Ask the user to input a list of numbers separated by spaces\n",
        "user_input = input(\"Enter a list of numbers separated by spaces: \")\n",
        "\n",
        "# Convert the input string into a list of integers\n",
        "numbers = list(map(int, user_input.split()))\n",
        "\n",
        "# Iterate through the list and check if each number is odd\n",
        "for number in numbers:\n",
        "    if number % 2 == 1:\n",
        "        print(number)\n"
      ],
      "metadata": {
        "colab": {
          "base_uri": "https://localhost:8080/"
        },
        "id": "9H5pkeeSAfAb",
        "outputId": "8352f26b-b912-4e82-a4eb-075ea3d7321e"
      },
      "execution_count": null,
      "outputs": [
        {
          "output_type": "stream",
          "name": "stdout",
          "text": [
            "Enter a list of numbers separated by spaces: 34 35 38 39 47\n",
            "35\n",
            "39\n",
            "47\n"
          ]
        }
      ]
    },
    {
      "cell_type": "code",
      "source": [
        "# Ask the user to input a list of numbers separated by spaces\n",
        "user_input = input(list)\n",
        "\n",
        "# Convert the input string into a list of integers\n",
        "numbers = list(map(int, user_input.split()))\n",
        "\n",
        "# Collect odd numbers in a list\n",
        "odd_numbers = [str(number) for number in numbers if number % 2 == 1]\n",
        "\n",
        "# Join the list into a single string with spaces in between\n",
        "odd_numbers_str = ', '.join(odd_numbers)\n",
        "\n",
        "# Print the odd numbers on the same line\n",
        "print(odd_numbers_str)\n"
      ],
      "metadata": {
        "colab": {
          "base_uri": "https://localhost:8080/"
        },
        "id": "azilYiOMELsX",
        "outputId": "d0330c30-727f-4676-e6e4-eb3b19a41ce2"
      },
      "execution_count": null,
      "outputs": [
        {
          "output_type": "stream",
          "name": "stdout",
          "text": [
            "<class 'list'>35 37 89\n",
            "35, 37, 89\n"
          ]
        }
      ]
    },
    {
      "cell_type": "code",
      "source": [
        "# 8. Function with multiple return values\n",
        "from statistics import mean, median, mode\n",
        "\n",
        "def calculate_stats(numbers):\n",
        "    stats = {}\n",
        "    stats['mean'] = mean(numbers)\n",
        "    stats['median'] = median(numbers)\n",
        "    try:\n",
        "        stats['mode'] = mode(numbers)\n",
        "    except:\n",
        "        stats['mode'] = 'No unique mode'\n",
        "    return stats\n",
        "\n",
        "# Get user input\n",
        "user_input = input()\n",
        "\n",
        "# Convert input string to a list of integers\n",
        "numbers = list(map(int, user_input.split(' ')))\n",
        "\n",
        "# Calculate statistics\n",
        "stats = calculate_stats(numbers)\n",
        "\n",
        "# Print the results\n",
        "print(f\"Mean: {stats['mean']}\")\n",
        "print(f\"Median: {stats['median']}\")\n",
        "print(f\"Mode: {stats['mode']}\")\n"
      ],
      "metadata": {
        "colab": {
          "base_uri": "https://localhost:8080/"
        },
        "id": "fOCPlBZbE381",
        "outputId": "66abcd1f-61b5-43e1-be73-58fca01c0ff0"
      },
      "execution_count": null,
      "outputs": [
        {
          "output_type": "stream",
          "name": "stdout",
          "text": [
            "45 23 45 56\n",
            "Mean: 42.25\n",
            "Median: 45.0\n",
            "Mode: 45\n"
          ]
        }
      ]
    },
    {
      "cell_type": "code",
      "source": [
        "# 9. Lambda functions and filtering\n",
        "# List of numbers\n",
        "numbers = [15, 22, 9, 16, 30, 12]\n",
        "\n",
        "# Use lambda function with filter to get numbers divisible by 3\n",
        "divisible_by_3 = list(filter(lambda x: x % 3 == 0, numbers))\n",
        "\n",
        "# Print the filtered list\n",
        "print(divisible_by_3)\n",
        "\n"
      ],
      "metadata": {
        "colab": {
          "base_uri": "https://localhost:8080/"
        },
        "id": "z80o7908HZz1",
        "outputId": "07aceb0a-c6f1-4b95-bb5d-6379fe0e2604"
      },
      "execution_count": null,
      "outputs": [
        {
          "output_type": "stream",
          "name": "stdout",
          "text": [
            "[15, 9, 30, 12]\n"
          ]
        }
      ]
    },
    {
      "cell_type": "markdown",
      "source": [
        "### 4. Working with dictionaries and sets"
      ],
      "metadata": {
        "id": "yzplEC2DKtIm"
      }
    },
    {
      "cell_type": "code",
      "source": [
        "# 10. Create the dictionary with nested data\n",
        "student_info = {\n",
        "    \"Alice\": {\n",
        "        \"age\": 20,\n",
        "        \"grade\": \"A\",\n",
        "        \"subjects\": [\"Math\", \"Physics\", \"Chemistry\"]\n",
        "    },\n",
        "    \"Bob\": {\n",
        "        \"age\": 22,\n",
        "        \"grade\": \"B\",\n",
        "        \"subjects\": [\"Biology\", \"Math\", \"History\"]\n",
        "    }\n",
        "}\n",
        "\n",
        "# Print the subjects of one of the students\n",
        "student_name = \"Alice\"\n",
        "subjects = student_info[student_name][\"subjects\"]\n",
        "print(f\"Subjects of {student_name}: {subjects}\")\n"
      ],
      "metadata": {
        "colab": {
          "base_uri": "https://localhost:8080/"
        },
        "id": "iUlMbyUyJpZy",
        "outputId": "972a08da-ed86-4def-f479-2c33e891a05f"
      },
      "execution_count": null,
      "outputs": [
        {
          "output_type": "stream",
          "name": "stdout",
          "text": [
            "Subjects of Alice: ['Math', 'Physics', 'Chemistry']\n"
          ]
        }
      ]
    },
    {
      "cell_type": "code",
      "source": [
        "# 11. Set operations with complex data\n",
        "# Define the two sets\n",
        "classA = {\"Alice\", \"Bob\", \"Charlie\"}\n",
        "classB = {\"Charlie\", \"David\", \"Eva\"}\n",
        "\n",
        "# Find students who are in both classes (intersection)\n",
        "students_in_both_classes = classA.intersection(classB)\n",
        "\n",
        "# Find students who are only in one class (symmetric difference)\n",
        "students_only_in_one_class = classA.symmetric_difference(classB)\n",
        "\n",
        "# Find all students who are in either class (union)\n",
        "all_students = classA.union(classB)\n",
        "\n",
        "# Print the results\n",
        "print(f\"Students in both classes: {students_in_both_classes}\")\n",
        "print(f\"Students only in one class: {students_only_in_one_class}\")\n",
        "print(f\"All students in either class: {all_students}\")\n"
      ],
      "metadata": {
        "colab": {
          "base_uri": "https://localhost:8080/"
        },
        "id": "BOUESy2sKopO",
        "outputId": "39c8648d-5a91-4c3f-dc83-768b0016d532"
      },
      "execution_count": null,
      "outputs": [
        {
          "output_type": "stream",
          "name": "stdout",
          "text": [
            "Students in both classes: {'Charlie'}\n",
            "Students only in one class: {'Alice', 'Eva', 'David', 'Bob'}\n",
            "All students in either class: {'Charlie', 'Alice', 'Eva', 'David', 'Bob'}\n"
          ]
        }
      ]
    },
    {
      "cell_type": "code",
      "source": [
        "# 12. Updating and merging dictionaries\n",
        "# Define the two dictionaries\n",
        "dict1 = {\"a\": 1, \"b\": 2, \"c\": 3}\n",
        "dict2 = {\"b\": 3, \"c\": 4, \"d\": 5}\n",
        "\n",
        "# Merge dict2 into dict1, summing the values of common keys\n",
        "for key, value in dict2.items():\n",
        "    if key in dict1:\n",
        "        dict1[key] += value  # Sum the values for common keys\n",
        "    else:\n",
        "        dict1[key] = value   # Add the new key-value pair if the key is not present\n",
        "\n",
        "# Print the resulting dictionary\n",
        "print(f\"Resulting dictionary: {dict1}\")\n"
      ],
      "metadata": {
        "colab": {
          "base_uri": "https://localhost:8080/"
        },
        "id": "ERhGfWBjLEqI",
        "outputId": "cbfb1d0d-7c07-48c2-e6ce-3713744a41cd"
      },
      "execution_count": null,
      "outputs": [
        {
          "output_type": "stream",
          "name": "stdout",
          "text": [
            "Resulting dictionary: {'a': 1, 'b': 5, 'c': 7, 'd': 5}\n"
          ]
        }
      ]
    },
    {
      "cell_type": "markdown",
      "source": [
        "### 5. Miscellaneous challenges\n"
      ],
      "metadata": {
        "id": "HXnHEzrnLjnI"
      }
    },
    {
      "cell_type": "code",
      "source": [
        "# 13. Tuple operations\n",
        "# Given tuple\n",
        "data = (10, 20, 30, 40, 50)\n",
        "\n",
        "# Convert the tuple to a list\n",
        "data_list = list(data)\n",
        "\n",
        "# Reverse the list\n",
        "data_list.reverse()\n",
        "\n",
        "# Convert the list back to a tuple\n",
        "reversed_tuple = tuple(data_list)\n",
        "\n",
        "# Print the final tuple\n",
        "print(f\"Final tuple: {reversed_tuple}\")\n"
      ],
      "metadata": {
        "colab": {
          "base_uri": "https://localhost:8080/"
        },
        "id": "fXv9fsNgLXyN",
        "outputId": "b6a6e968-0fff-4e69-9a9a-b0b36c1c78a2"
      },
      "execution_count": null,
      "outputs": [
        {
          "output_type": "stream",
          "name": "stdout",
          "text": [
            "Final tuple: (50, 40, 30, 20, 10)\n"
          ]
        }
      ]
    },
    {
      "cell_type": "code",
      "source": [
        "# 14. String reversal without using slicing\n",
        "def reverse_string(s):\n",
        "    reversed_str = \"\"\n",
        "    for char in s:\n",
        "        reversed_str = char + reversed_str  # Add each character to the front of the new string\n",
        "    return reversed_str\n",
        "\n",
        "# Example usage\n",
        "input_string = \"hello Mayu bala\"\n",
        "reversed_string = reverse_string(input_string)\n",
        "\n",
        "# Print the reversed string\n",
        "print(f\"Reversed string: {reversed_string}\")\n"
      ],
      "metadata": {
        "colab": {
          "base_uri": "https://localhost:8080/"
        },
        "id": "r7wVmaj-Lvjy",
        "outputId": "2aa7a13c-4515-4bf6-c849-ed37baf955b5"
      },
      "execution_count": null,
      "outputs": [
        {
          "output_type": "stream",
          "name": "stdout",
          "text": [
            "Reversed string: alab uyaM olleh\n"
          ]
        }
      ]
    },
    {
      "cell_type": "code",
      "source": [
        "# 15. Nested loops with complex logic\n",
        "# Given lists\n",
        "list1 = [1, 2, 3]\n",
        "list2 = ['a', 'b', 'c']\n",
        "\n",
        "# Initialize an empty list to store the pairs\n",
        "pairs = []\n",
        "\n",
        "# Use nested loops to generate all possible pairs\n",
        "for num in list1:\n",
        "    for letter in list2:\n",
        "        pairs.append((num, letter))\n",
        "\n",
        "# Print the resulting list of tuples\n",
        "print(f\"All possible pairs: {pairs}\")\n"
      ],
      "metadata": {
        "colab": {
          "base_uri": "https://localhost:8080/"
        },
        "id": "Q_UnHu9OL9Tx",
        "outputId": "19c3cc47-a140-4fbb-eb5c-e2936c706044"
      },
      "execution_count": null,
      "outputs": [
        {
          "output_type": "stream",
          "name": "stdout",
          "text": [
            "All possible pairs: [(1, 'a'), (1, 'b'), (1, 'c'), (2, 'a'), (2, 'b'), (2, 'c'), (3, 'a'), (3, 'b'), (3, 'c')]\n"
          ]
        }
      ]
    },
    {
      "cell_type": "code",
      "source": [
        "from sklearn.ensemble import RandomForestClassifier\n",
        "clf = RandomForestClassifier(random_state=0)\n",
        "X = [[ 1,  2,  3],  # 2 samples, 3 features\n",
        "     [11, 12, 13]]\n",
        "y = [0, 1]  # classes of each sample\n",
        "clf.fit(X, y)\n",
        "RandomForestClassifier(random_state=0)"
      ],
      "metadata": {
        "colab": {
          "base_uri": "https://localhost:8080/",
          "height": 51
        },
        "id": "oLLDtsXNMK5C",
        "outputId": "a2e9569c-a200-4b2e-961a-e0ffae3cefd0"
      },
      "execution_count": null,
      "outputs": [
        {
          "output_type": "execute_result",
          "data": {
            "text/plain": [
              "RandomForestClassifier(random_state=0)"
            ],
            "text/html": [
              "<style>#sk-container-id-1 {color: black;}#sk-container-id-1 pre{padding: 0;}#sk-container-id-1 div.sk-toggleable {background-color: white;}#sk-container-id-1 label.sk-toggleable__label {cursor: pointer;display: block;width: 100%;margin-bottom: 0;padding: 0.3em;box-sizing: border-box;text-align: center;}#sk-container-id-1 label.sk-toggleable__label-arrow:before {content: \"▸\";float: left;margin-right: 0.25em;color: #696969;}#sk-container-id-1 label.sk-toggleable__label-arrow:hover:before {color: black;}#sk-container-id-1 div.sk-estimator:hover label.sk-toggleable__label-arrow:before {color: black;}#sk-container-id-1 div.sk-toggleable__content {max-height: 0;max-width: 0;overflow: hidden;text-align: left;background-color: #f0f8ff;}#sk-container-id-1 div.sk-toggleable__content pre {margin: 0.2em;color: black;border-radius: 0.25em;background-color: #f0f8ff;}#sk-container-id-1 input.sk-toggleable__control:checked~div.sk-toggleable__content {max-height: 200px;max-width: 100%;overflow: auto;}#sk-container-id-1 input.sk-toggleable__control:checked~label.sk-toggleable__label-arrow:before {content: \"▾\";}#sk-container-id-1 div.sk-estimator input.sk-toggleable__control:checked~label.sk-toggleable__label {background-color: #d4ebff;}#sk-container-id-1 div.sk-label input.sk-toggleable__control:checked~label.sk-toggleable__label {background-color: #d4ebff;}#sk-container-id-1 input.sk-hidden--visually {border: 0;clip: rect(1px 1px 1px 1px);clip: rect(1px, 1px, 1px, 1px);height: 1px;margin: -1px;overflow: hidden;padding: 0;position: absolute;width: 1px;}#sk-container-id-1 div.sk-estimator {font-family: monospace;background-color: #f0f8ff;border: 1px dotted black;border-radius: 0.25em;box-sizing: border-box;margin-bottom: 0.5em;}#sk-container-id-1 div.sk-estimator:hover {background-color: #d4ebff;}#sk-container-id-1 div.sk-parallel-item::after {content: \"\";width: 100%;border-bottom: 1px solid gray;flex-grow: 1;}#sk-container-id-1 div.sk-label:hover label.sk-toggleable__label {background-color: #d4ebff;}#sk-container-id-1 div.sk-serial::before {content: \"\";position: absolute;border-left: 1px solid gray;box-sizing: border-box;top: 0;bottom: 0;left: 50%;z-index: 0;}#sk-container-id-1 div.sk-serial {display: flex;flex-direction: column;align-items: center;background-color: white;padding-right: 0.2em;padding-left: 0.2em;position: relative;}#sk-container-id-1 div.sk-item {position: relative;z-index: 1;}#sk-container-id-1 div.sk-parallel {display: flex;align-items: stretch;justify-content: center;background-color: white;position: relative;}#sk-container-id-1 div.sk-item::before, #sk-container-id-1 div.sk-parallel-item::before {content: \"\";position: absolute;border-left: 1px solid gray;box-sizing: border-box;top: 0;bottom: 0;left: 50%;z-index: -1;}#sk-container-id-1 div.sk-parallel-item {display: flex;flex-direction: column;z-index: 1;position: relative;background-color: white;}#sk-container-id-1 div.sk-parallel-item:first-child::after {align-self: flex-end;width: 50%;}#sk-container-id-1 div.sk-parallel-item:last-child::after {align-self: flex-start;width: 50%;}#sk-container-id-1 div.sk-parallel-item:only-child::after {width: 0;}#sk-container-id-1 div.sk-dashed-wrapped {border: 1px dashed gray;margin: 0 0.4em 0.5em 0.4em;box-sizing: border-box;padding-bottom: 0.4em;background-color: white;}#sk-container-id-1 div.sk-label label {font-family: monospace;font-weight: bold;display: inline-block;line-height: 1.2em;}#sk-container-id-1 div.sk-label-container {text-align: center;}#sk-container-id-1 div.sk-container {/* jupyter's `normalize.less` sets `[hidden] { display: none; }` but bootstrap.min.css set `[hidden] { display: none !important; }` so we also need the `!important` here to be able to override the default hidden behavior on the sphinx rendered scikit-learn.org. See: https://github.com/scikit-learn/scikit-learn/issues/21755 */display: inline-block !important;position: relative;}#sk-container-id-1 div.sk-text-repr-fallback {display: none;}</style><div id=\"sk-container-id-1\" class=\"sk-top-container\"><div class=\"sk-text-repr-fallback\"><pre>RandomForestClassifier(random_state=0)</pre><b>In a Jupyter environment, please rerun this cell to show the HTML representation or trust the notebook. <br />On GitHub, the HTML representation is unable to render, please try loading this page with nbviewer.org.</b></div><div class=\"sk-container\" hidden><div class=\"sk-item\"><div class=\"sk-estimator sk-toggleable\"><input class=\"sk-toggleable__control sk-hidden--visually\" id=\"sk-estimator-id-1\" type=\"checkbox\" checked><label for=\"sk-estimator-id-1\" class=\"sk-toggleable__label sk-toggleable__label-arrow\">RandomForestClassifier</label><div class=\"sk-toggleable__content\"><pre>RandomForestClassifier(random_state=0)</pre></div></div></div></div></div>"
            ]
          },
          "metadata": {},
          "execution_count": 51
        }
      ]
    },
    {
      "cell_type": "code",
      "source": [
        "clf.predict(X)  # predict classes of the training data\n",
        "clf.predict([[4, 5, 6], [14, 15, 16]])  # predict classes of new data"
      ],
      "metadata": {
        "colab": {
          "base_uri": "https://localhost:8080/"
        },
        "id": "G5khd33LkfjD",
        "outputId": "16b26611-38aa-49af-8933-90f1c23eaed5"
      },
      "execution_count": null,
      "outputs": [
        {
          "output_type": "execute_result",
          "data": {
            "text/plain": [
              "array([0, 1])"
            ]
          },
          "metadata": {},
          "execution_count": 52
        }
      ]
    },
    {
      "cell_type": "code",
      "source": [
        "from sklearn.preprocessing import StandardScaler\n",
        "X = [[0, 15],\n",
        "     [1, -10]]\n",
        "# scale data according to computed scaling values\n",
        "StandardScaler().fit(X).transform(X)"
      ],
      "metadata": {
        "colab": {
          "base_uri": "https://localhost:8080/"
        },
        "id": "HVfK0a9Dk7Qh",
        "outputId": "289d6115-f10e-4616-aa6b-c2fcd7234196"
      },
      "execution_count": null,
      "outputs": [
        {
          "output_type": "execute_result",
          "data": {
            "text/plain": [
              "array([[-1.,  1.],\n",
              "       [ 1., -1.]])"
            ]
          },
          "metadata": {},
          "execution_count": 53
        }
      ]
    },
    {
      "cell_type": "code",
      "source": [
        "from sklearn.preprocessing import StandardScaler\n",
        "from sklearn.linear_model import LogisticRegression\n",
        "from sklearn.pipeline import make_pipeline\n",
        "from sklearn.datasets import load_iris\n",
        "from sklearn.model_selection import train_test_split\n",
        "from sklearn.metrics import accuracy_score\n",
        "# create a pipeline object\n",
        "pipe = make_pipeline(\n",
        "    StandardScaler(),\n",
        "    LogisticRegression()\n",
        ")\n",
        "# load the iris dataset and split it into train and test sets\n",
        "X, y = load_iris(return_X_y=True)\n",
        "X_train, X_test, y_train, y_test = train_test_split(X, y, random_state=0)\n",
        "# fit the whole pipeline\n",
        "pipe.fit(X_train, y_train)\n",
        "# we can now use it like any other estimator\n",
        "accuracy_score(pipe.predict(X_test), y_test)"
      ],
      "metadata": {
        "colab": {
          "base_uri": "https://localhost:8080/"
        },
        "id": "p0eCyGh3lP8J",
        "outputId": "d1e7ad30-eb8e-4fdb-d870-f68de429ff45"
      },
      "execution_count": null,
      "outputs": [
        {
          "output_type": "execute_result",
          "data": {
            "text/plain": [
              "0.9736842105263158"
            ]
          },
          "metadata": {},
          "execution_count": 54
        }
      ]
    },
    {
      "cell_type": "code",
      "source": [
        "from sklearn.datasets import make_regression\n",
        "from sklearn.linear_model import LinearRegression\n",
        "from sklearn.model_selection import cross_validate\n",
        "X, y = make_regression(n_samples=1000, random_state=0)\n",
        "lr = LinearRegression()\n",
        "result = cross_validate(lr, X, y)  # defaults to 5-fold CV\n",
        "result['test_score']  # r_squared score is high because dataset is easy"
      ],
      "metadata": {
        "colab": {
          "base_uri": "https://localhost:8080/"
        },
        "id": "luiTtjX-lzjB",
        "outputId": "b983a216-895a-4d9a-d37b-b2bd9a65d650"
      },
      "execution_count": null,
      "outputs": [
        {
          "output_type": "execute_result",
          "data": {
            "text/plain": [
              "array([1., 1., 1., 1., 1.])"
            ]
          },
          "metadata": {},
          "execution_count": 55
        }
      ]
    },
    {
      "cell_type": "code",
      "source": [
        "from sklearn.datasets import fetch_california_housing\n",
        "from sklearn.ensemble import RandomForestRegressor\n",
        "from sklearn.model_selection import RandomizedSearchCV\n",
        "from sklearn.model_selection import train_test_split\n",
        "from scipy.stats import randint\n",
        "X, y = fetch_california_housing(return_X_y=True)\n",
        "X_train, X_test, y_train, y_test = train_test_split(X, y, random_state=0)\n",
        "# define the parameter space that will be searched over\n",
        "param_distributions = {'n_estimators': randint(1, 5),\n",
        "                       'max_depth': randint(5, 10)}\n",
        "# now create a searchCV object and fit it to the data\n",
        "search = RandomizedSearchCV(estimator=RandomForestRegressor(random_state=0),\n",
        "                            n_iter=5,\n",
        "                            param_distributions=param_distributions,\n",
        "                            random_state=0)\n",
        "search.fit(X_train, y_train)\n",
        "search.best_params_\n",
        "\n",
        "# the search object now acts like a normal random forest estimator\n",
        "# with max_depth=9 and n_estimators=4\n",
        "search.score(X_test, y_test)"
      ],
      "metadata": {
        "colab": {
          "base_uri": "https://localhost:8080/"
        },
        "id": "NJNCKZCjl3nG",
        "outputId": "b8629aaf-dfd7-4299-959a-89fd830a89af"
      },
      "execution_count": null,
      "outputs": [
        {
          "output_type": "execute_result",
          "data": {
            "text/plain": [
              "0.735363411343253"
            ]
          },
          "metadata": {},
          "execution_count": 56
        }
      ]
    },
    {
      "cell_type": "code",
      "source": [],
      "metadata": {
        "id": "NV_gFa3jmBOZ"
      },
      "execution_count": null,
      "outputs": []
    }
  ]
}